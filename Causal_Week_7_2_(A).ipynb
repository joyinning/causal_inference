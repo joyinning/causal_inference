{
  "nbformat": 4,
  "nbformat_minor": 0,
  "metadata": {
    "colab": {
      "provenance": [],
      "authorship_tag": "ABX9TyO1unf4Ank9Bv5/3wWSiH0z",
      "include_colab_link": true
    },
    "kernelspec": {
      "name": "python3",
      "display_name": "Python 3"
    },
    "language_info": {
      "name": "python"
    }
  },
  "cells": [
    {
      "cell_type": "markdown",
      "metadata": {
        "id": "view-in-github",
        "colab_type": "text"
      },
      "source": [
        "<a href=\"https://colab.research.google.com/github/joyinning/causal_inference/blob/main/Causal_Week_7_2_(A).ipynb\" target=\"_parent\"><img src=\"https://colab.research.google.com/assets/colab-badge.svg\" alt=\"Open In Colab\"/></a>"
      ]
    },
    {
      "cell_type": "markdown",
      "source": [
        "## Chapter 8\n"
      ],
      "metadata": {
        "id": "fCBc7rWgt5C0"
      }
    },
    {
      "cell_type": "markdown",
      "source": [
        "### Concepts"
      ],
      "metadata": {
        "id": "LjLWxg-VPxQC"
      }
    },
    {
      "cell_type": "markdown",
      "source": [
        "**Q1. As we learned Causal Inference, we became familiar with OLS containing such components; dependent variable and independent variables into two groups - treatment and controlled variables. What role controlled variable plays in OLS for Causal Inference? Think about the term itself and you can inference from the meaning.**\n"
      ],
      "metadata": {
        "id": "flXaPW1XYNQb"
      }
    },
    {
      "cell_type": "markdown",
      "source": [
        "- To control for confounding factors that could otherwise bias the estimation of the causal effect of the treatment variable on the outcome variable. They help ensure that the relationship being estimated approximates all else being equal condition, which is essential for causal inference."
      ],
      "metadata": {
        "id": "LBu2rE4w4j02"
      }
    },
    {
      "cell_type": "markdown",
      "source": [
        "\n",
        "**Q2. When choosing instrumental variables, what are the expected relationships between y, T, and Z(IV)? and why?**\n"
      ],
      "metadata": {
        "id": "6M_HcxKu4QdY"
      }
    },
    {
      "cell_type": "markdown",
      "source": [
        "- The instrument Z(IV) is uncorrelated with y, but it is correlated with T. (Exclusion Restriction)"
      ],
      "metadata": {
        "id": "ibBHouwwEvC-"
      }
    },
    {
      "cell_type": "markdown",
      "source": [
        "\n",
        "**Q3. When can we use reduced form for IV and why is it allowed? Is there any reduced form in our model? Why we can't use 2SLS by hands (using two linear models)**\n"
      ],
      "metadata": {
        "id": "Ref2kHqu4RVq"
      }
    },
    {
      "cell_type": "markdown",
      "source": [
        "- When we need directly models the relationship between the instrument and the outcome.\n",
        "- Why allowed: it encapsulates the combined effect of Z on y through T in one step when the first stage (from Z to T) is weak.\n",
        "- 1) consistency but not unbiased, 2) complexity with multiple instruments."
      ],
      "metadata": {
        "id": "n-FaxmD-E4TS"
      }
    },
    {
      "cell_type": "markdown",
      "source": [
        "\n",
        "**Q4. What is the bad side of IV?**\n"
      ],
      "metadata": {
        "id": "MWyvBCEI4R8R"
      }
    },
    {
      "cell_type": "markdown",
      "source": [
        "- If the instrument has only a very small correlation with the treatment, we can't learn much about the treatment from the instrument.\n",
        "- The formulas for the IV standard errors are complex and not so intuitive."
      ],
      "metadata": {
        "id": "6aK_w9q7M7nu"
      }
    },
    {
      "cell_type": "markdown",
      "source": [
        "\n",
        "**Q5. The book listed two common mistakes that people can encounter when utilizing IV. One is using SE with two models (by hand) and the other one is using ML model to achieve the first stage. Why do you think SE becomes wrong and ML approach is wrong?**"
      ],
      "metadata": {
        "id": "5wXXJNjC4S7W"
      }
    },
    {
      "cell_type": "markdown",
      "source": [
        "- 1) using standard errors incorrectly.\n",
        "- 2) misusing machine learning ML models for first stage."
      ],
      "metadata": {
        "id": "vXbgD9Y3Nmpn"
      }
    },
    {
      "cell_type": "markdown",
      "source": [
        "### Case Study"
      ],
      "metadata": {
        "id": "rQlErYtBPvbj"
      }
    },
    {
      "cell_type": "markdown",
      "source": [
        "You are employed at a smartphone manufacturing company and are interested in analyzing historical sales data related to competitors' smartphone launches.\n",
        "Your company starts the smartphone the first in the market and number of competitors joined more every year."
      ],
      "metadata": {
        "id": "n-r16DB0YPhC"
      }
    },
    {
      "cell_type": "code",
      "source": [
        "import numpy as np\n",
        "import pandas as pd\n",
        "np.random.seed(12)\n",
        "n = 1000\n",
        "\n",
        "data = {\n",
        "    \"company_age_in_month\": [j for j in range(50) for i in range(int(n/50))],\n",
        "    \"num_competitor_launches\": [round(abs(np.random.normal((i/500), 1.5, 1)[0])) if i < 100 else round(abs(np.random.normal((i/50), 1.5, 1)[0])) if i < 700 else round(abs(np.random.normal((i/100), 1.5, 1)[0])) for i in range(n)],\n",
        "    \"num_sales\": [round(abs(np.random.normal(300 + 500 * (i/500), 150, 1)[0])) if i < 100 else round(abs(np.random.normal(100 + 300 * (i/50), 300, 1)[0])) if i < 700 else round(abs(np.random.normal(200 + 100 * (i/100), 30, 1)[0])) for i in range(n)],\n",
        "    \"our_custom_review\": [np.random.uniform(1, 5) if i < 100 else np.random.uniform(2, 5) if i < 700 else np.random.uniform(4, 5) for i in range(n)],\n",
        "    \"num_other_product_on_us\": [round(abs(np.random.normal((i/700), 1.5, 1)[0])) if i < 100 else round(abs(np.random.normal((i/100), 1.5, 1)[0])) if i < 700 else round(abs(np.random.normal((i/100), 1.5, 1)[0])) for i in range(n)],\n",
        "    \"market_growth_rate\": [np.random.normal((i/700), 1.5, 1)[0] if i < 100 else np.random.normal((i/100), 1.5, 1)[0] if i < 700 else np.random.normal((i/50), 1.5, 1)[0] for i in range(n)],\n",
        "    \"new_tech\": [np.random.normal((i/700), 1.5, 1)[0] if i < 100 else np.random.normal((i/300), 1.5, 1)[0] if i < 700 else np.random.normal((i/200), 1.5, 1)[0] for i in range(n)],\n",
        "    \"num_new_royal_customer\": [np.random.normal((i/100), 1.5, 1)[0] if i < 100 else np.random.normal((i/150), 1.5, 1)[0] if i < 700 else np.random.normal((i/1000), 1.5, 1)[0] for i in range(n)]\n",
        "}"
      ],
      "metadata": {
        "id": "PM2oHctHYNEY"
      },
      "execution_count": 5,
      "outputs": []
    },
    {
      "cell_type": "markdown",
      "source": [
        "**Question 1 Perform IV Estimate using two different methods one by using two OLS models and two, using 2SLS library**"
      ],
      "metadata": {
        "id": "EDEcuRDbP1Tm"
      }
    },
    {
      "cell_type": "markdown",
      "source": [
        "- num_competitor_launches = T\n",
        "- market_growth_rate = Z\n",
        "- num_sales = Y"
      ],
      "metadata": {
        "id": "VhXo2RwL2Lsu"
      }
    },
    {
      "cell_type": "code",
      "source": [
        "df = pd.DataFrame(data)"
      ],
      "metadata": {
        "id": "3hEnEeO72WI2"
      },
      "execution_count": 6,
      "outputs": []
    },
    {
      "cell_type": "code",
      "source": [
        "import statsmodels.api as sm\n",
        "from statsmodels.sandbox.regression.gmm import IV2SLS\n",
        "\n",
        "first_stage = sm.OLS(df['num_competitor_launches'], sm.add_constant(df['market_growth_rate'])).fit()\n",
        "print(\"First Stage Summary:\\n\", first_stage.summary())"
      ],
      "metadata": {
        "colab": {
          "base_uri": "https://localhost:8080/"
        },
        "id": "NZROU5V1RYHD",
        "outputId": "152b0778-db08-4d6f-8b5a-c9e1112b47d1"
      },
      "execution_count": 11,
      "outputs": [
        {
          "output_type": "stream",
          "name": "stdout",
          "text": [
            "First Stage Summary:\n",
            "                                OLS Regression Results                              \n",
            "===================================================================================\n",
            "Dep. Variable:     num_competitor_launches   R-squared:                       0.190\n",
            "Model:                                 OLS   Adj. R-squared:                  0.189\n",
            "Method:                      Least Squares   F-statistic:                     234.3\n",
            "Date:                     Sat, 04 May 2024   Prob (F-statistic):           1.16e-47\n",
            "Time:                             23:10:26   Log-Likelihood:                -2646.5\n",
            "No. Observations:                     1000   AIC:                             5297.\n",
            "Df Residuals:                          998   BIC:                             5307.\n",
            "Df Model:                                1                                         \n",
            "Covariance Type:                 nonrobust                                         \n",
            "======================================================================================\n",
            "                         coef    std err          t      P>|t|      [0.025      0.975]\n",
            "--------------------------------------------------------------------------------------\n",
            "const                  5.5934      0.162     34.518      0.000       5.275       5.911\n",
            "market_growth_rate     0.2473      0.016     15.306      0.000       0.216       0.279\n",
            "==============================================================================\n",
            "Omnibus:                       45.519   Durbin-Watson:                   0.433\n",
            "Prob(Omnibus):                  0.000   Jarque-Bera (JB):               38.547\n",
            "Skew:                           0.407   Prob(JB):                     4.26e-09\n",
            "Kurtosis:                       2.488   Cond. No.                         15.1\n",
            "==============================================================================\n",
            "\n",
            "Notes:\n",
            "[1] Standard Errors assume that the covariance matrix of the errors is correctly specified.\n"
          ]
        }
      ]
    },
    {
      "cell_type": "code",
      "source": [
        "df['predicted_T'] = first_stage.predict(sm.add_constant(df['market_growth_rate']))\n",
        "second_stage = sm.OLS(df['num_sales'], sm.add_constant(df['predicted_T'])).fit()"
      ],
      "metadata": {
        "id": "v0wQW8Z034iM"
      },
      "execution_count": 12,
      "outputs": []
    },
    {
      "cell_type": "code",
      "source": [
        "print(\"Second Stage Summary:\\n\", second_stage.summary())"
      ],
      "metadata": {
        "colab": {
          "base_uri": "https://localhost:8080/"
        },
        "id": "T3vETJ1337OJ",
        "outputId": "95a38e02-1399-41da-cbcc-7e9b295ae024"
      },
      "execution_count": 13,
      "outputs": [
        {
          "output_type": "stream",
          "name": "stdout",
          "text": [
            "Second Stage Summary:\n",
            "                             OLS Regression Results                            \n",
            "==============================================================================\n",
            "Dep. Variable:              num_sales   R-squared:                       0.026\n",
            "Model:                            OLS   Adj. R-squared:                  0.025\n",
            "Method:                 Least Squares   F-statistic:                     26.99\n",
            "Date:                Sat, 04 May 2024   Prob (F-statistic):           2.48e-07\n",
            "Time:                        23:10:41   Log-Likelihood:                -8462.0\n",
            "No. Observations:                1000   AIC:                         1.693e+04\n",
            "Df Residuals:                     998   BIC:                         1.694e+04\n",
            "Df Model:                           1                                         \n",
            "Covariance Type:            nonrobust                                         \n",
            "===============================================================================\n",
            "                  coef    std err          t      P>|t|      [0.025      0.975]\n",
            "-------------------------------------------------------------------------------\n",
            "const        2678.8882    167.073     16.034      0.000    2351.034    3006.742\n",
            "predicted_T  -113.8524     21.915     -5.195      0.000    -156.858     -70.847\n",
            "==============================================================================\n",
            "Omnibus:                       75.665   Durbin-Watson:                   0.095\n",
            "Prob(Omnibus):                  0.000   Jarque-Bera (JB):               60.552\n",
            "Skew:                           0.514   Prob(JB):                     7.10e-14\n",
            "Kurtosis:                       2.372   Cond. No.                         35.7\n",
            "==============================================================================\n",
            "\n",
            "Notes:\n",
            "[1] Standard Errors assume that the covariance matrix of the errors is correctly specified.\n"
          ]
        }
      ]
    },
    {
      "cell_type": "markdown",
      "source": [
        "**Question 2 Calculate covariance to check the correlation between T and Z**"
      ],
      "metadata": {
        "id": "-cF7xEbAP-a6"
      }
    },
    {
      "cell_type": "code",
      "source": [
        "covariance = df[['num_competitor_launches', 'market_growth_rate']].cov()\n",
        "print(\"Covariance between T and Z:\\n\", covariance)"
      ],
      "metadata": {
        "colab": {
          "base_uri": "https://localhost:8080/"
        },
        "id": "r2D8x7Pq4BZB",
        "outputId": "9120b29c-8c17-4746-fdc4-39c331199a58"
      },
      "execution_count": 14,
      "outputs": [
        {
          "output_type": "stream",
          "name": "stdout",
          "text": [
            "Covariance between T and Z:\n",
            "                          num_competitor_launches  market_growth_rate\n",
            "num_competitor_launches                14.397033           11.069883\n",
            "market_growth_rate                     11.069883           44.770831\n"
          ]
        }
      ]
    },
    {
      "cell_type": "markdown",
      "source": [
        "**Question 3 Justify by context what variables you can use for IV**"
      ],
      "metadata": {
        "id": "J-LXqjUcQDbb"
      }
    },
    {
      "cell_type": "markdown",
      "source": [
        "- market_growth_rate: a good instrument for 'num_competitor_launches'.\n",
        "> It might influence the entry of new competitors but does not directly affect our company's sales, assuming that market conditions affect all competitors similarly and not directly linked to our sales performance."
      ],
      "metadata": {
        "id": "7GwuYRAQ4GEI"
      }
    },
    {
      "cell_type": "markdown",
      "source": [
        "**Question 4 Get IV estimates**"
      ],
      "metadata": {
        "id": "kbvaTXwKQGa-"
      }
    },
    {
      "cell_type": "markdown",
      "source": [
        "predicted_T = -113.8524\n",
        "- For each additional predicted competitor launch (market growth rate), the sales of the company decrease by approximately 114 units, holding other factors constant.\n",
        "- Market growth rates and competitor launches is purely exogenous with respect to other factors influencing sales."
      ],
      "metadata": {
        "id": "HujavnPP47q8"
      }
    },
    {
      "cell_type": "markdown",
      "source": [
        "**Question 5 Explain in context whether there was an effect of having competitors' launches to our sales**"
      ],
      "metadata": {
        "id": "4U0-jx-6QIIn"
      }
    },
    {
      "cell_type": "markdown",
      "source": [
        "Changes in the number of competitor launches do affect the sales. The sign and magnitude of the coefficient will tell whether more competitors entering the market are beneficial or detrimental to the sales, controlling for other market growth factors."
      ],
      "metadata": {
        "id": "ia3KvmMT5NX2"
      }
    }
  ]
}