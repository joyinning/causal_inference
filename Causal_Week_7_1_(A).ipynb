{
  "nbformat": 4,
  "nbformat_minor": 0,
  "metadata": {
    "colab": {
      "provenance": [],
      "authorship_tag": "ABX9TyMzoiE+MFfKfsJyiFTlKDCH",
      "include_colab_link": true
    },
    "kernelspec": {
      "name": "python3",
      "display_name": "Python 3"
    },
    "language_info": {
      "name": "python"
    }
  },
  "cells": [
    {
      "cell_type": "markdown",
      "metadata": {
        "id": "view-in-github",
        "colab_type": "text"
      },
      "source": [
        "<a href=\"https://colab.research.google.com/github/joyinning/causal_inference/blob/main/Causal_Week_7_1_(A).ipynb\" target=\"_parent\"><img src=\"https://colab.research.google.com/assets/colab-badge.svg\" alt=\"Open In Colab\"/></a>"
      ]
    },
    {
      "cell_type": "markdown",
      "source": [
        "Resource: https://matheusfacure.github.io/python-causality-handbook/20-Plug-and-Play-Estimators.html"
      ],
      "metadata": {
        "id": "eP-g6AquPe-k"
      }
    },
    {
      "cell_type": "markdown",
      "source": [
        "# Chapter 20"
      ],
      "metadata": {
        "id": "Rvh5rZAOPbxT"
      }
    },
    {
      "cell_type": "markdown",
      "source": [
        "## Concepts"
      ],
      "metadata": {
        "id": "mq0G1Z2AX2hU"
      }
    },
    {
      "cell_type": "markdown",
      "source": [
        "### CATE (Conditional Average Treatment Effect)"
      ],
      "metadata": {
        "id": "Gy2CKh-lX46v"
      }
    },
    {
      "cell_type": "markdown",
      "source": [
        "**Question 1 Define ATE (Average Treatment Effect) and CATE (Conditional Average Treatment Effect). Why is CATE important in causal inference?**"
      ],
      "metadata": {
        "id": "3-D6wL74X1Hu"
      }
    },
    {
      "cell_type": "markdown",
      "source": [
        "- **ATE**: Average Treatment Effect, defined as the average effect of a treatment across all units, helping to determine the general efficacy of a treatment. It answers the question, \"How effective is a treatment on average?\"\n",
        "- **CATE**: Conditional Average Treatment Effect, defined as the average effect of a treatment on a particular subgroup of units within a population, identifying how different subgroups respond differently to the treatment. It answers the question, \"What if there are subgroups of units that respond better or worse to the treatment?\"\n",
        "- **Importance of CATE**: CATE is important because it allows for the personalization of decision-making by identifying subgroups that respond differently to a treatment, enhancing the precision and effectiveness of interventions."
      ],
      "metadata": {
        "id": "hS9NArylYH6U"
      }
    },
    {
      "cell_type": "markdown",
      "source": [
        "**Question 2 What is the main drawback of using linear models to estiamte CATE? Then how can we solve this?**"
      ],
      "metadata": {
        "id": "QjGXa5e2Yy2L"
      }
    },
    {
      "cell_type": "markdown",
      "source": [
        "- **Main Drawback**: The main drawback of linear models is their assumption of a linear relationship between features and outcomes, which can lead to inaccurate estimates if this relationship is not linear.\n",
        "- **Solution**: We can solve this issue by employing more flexible machine learning models, such as boosted trees or neural networks, which can better capture complex, non-linear relationships."
      ],
      "metadata": {
        "id": "ctiLz3-9ZG3U"
      }
    },
    {
      "cell_type": "markdown",
      "source": [
        "**Question 3 What does it mean that the criteiron to minimize treatment effect MSE is infeasible?**"
      ],
      "metadata": {
        "id": "Md03fqACZbay"
      }
    },
    {
      "cell_type": "markdown",
      "source": [
        "- **Explanation**: The criterion to minimize treatment effect MSE is infeasible because the true treatment effect is unobservable, preventing direct measurement and optimization.\n",
        "- **Alternative Approach**: Instead, we use a machine learning regression model that, while not directly minimizing the outcome MSE, aims to minimize the treatment effect MSE through indirect methods."
      ],
      "metadata": {
        "id": "6b-3rsf4ZjIT"
      }
    },
    {
      "cell_type": "markdown",
      "source": [
        "### Target Transformation"
      ],
      "metadata": {
        "id": "p1ePSwOWaBUW"
      }
    },
    {
      "cell_type": "markdown",
      "source": [
        "**Binary Treatment Scenario**"
      ],
      "metadata": {
        "id": "nNjf97Bob-Ym"
      }
    },
    {
      "cell_type": "markdown",
      "source": [
        "**Question 4 What is the purpose of target transformation in the context of estimating treatment effect?**"
      ],
      "metadata": {
        "id": "2nHs1W8yaUXL"
      }
    },
    {
      "cell_type": "markdown",
      "source": [
        "- It is used to adjust the outcome variable in such a way that the transformed outcome becomes an unbiased estimator of the treatment effect, allowing the use of standard predictive models to estimate the tratment effects."
      ],
      "metadata": {
        "id": "sEjk8wZ6aZAr"
      }
    },
    {
      "cell_type": "markdown",
      "source": [
        "**Question 5 Why is random assignment important in the context of this study?**"
      ],
      "metadata": {
        "id": "CnCH-Bcfc_3d"
      }
    },
    {
      "cell_type": "markdown",
      "source": [
        "- It is crucial because it ensures that the treatment assignment is independent of potential outcomes, which aids in obtaining unbiased estimates of treatment effects."
      ],
      "metadata": {
        "id": "UVSx15sWdD0T"
      }
    },
    {
      "cell_type": "markdown",
      "source": [
        "**Question 6 What is the role of the propensity score in the target transformation when the treatment is not uniformly assigned?**"
      ],
      "metadata": {
        "id": "Mo2b-2t-aypW"
      }
    },
    {
      "cell_type": "markdown",
      "source": [
        "- The propensity score adjusts the target transformation to account for the varying probabilities of receiving the treatment across different units. This ensures that the transformation remains an unbiased estimate of the treatment effect, even when treatment assignment is not uniform."
      ],
      "metadata": {
        "id": "odMLk6o5a4Nb"
      }
    },
    {
      "cell_type": "markdown",
      "source": [
        "**Continous Treatment Scenario**"
      ],
      "metadata": {
        "id": "1CcgjsQFcCiU"
      }
    },
    {
      "cell_type": "markdown",
      "source": [
        "**Question 7 What target transformation is proposed for the continuous treatment case?**"
      ],
      "metadata": {
        "id": "dtGkTZgFcSST"
      }
    },
    {
      "cell_type": "markdown",
      "source": [
        "- It involves normalizing the product of deviations of the treatment and the outcome from their respective means, potentially divided by the treatment variance (though this can be omitted if only the relative order of treatment effects is of interest)."
      ],
      "metadata": {
        "id": "jyCt_D42cbC9"
      }
    },
    {
      "cell_type": "markdown",
      "source": [
        "**Question 8 How does random assignment of treatment help in estimating CATE for continuous treatment?**"
      ],
      "metadata": {
        "id": "_aiGXvh5dW0r"
      }
    },
    {
      "cell_type": "markdown",
      "source": [
        "- It ensure that the treatment is independent of other covariates across different units, which simplifies modeling by removing sconfounding biases and making it easier to interpret the relationship between treatment intensity and outcomes as causal."
      ],
      "metadata": {
        "id": "HBPAanoOdbgv"
      }
    },
    {
      "cell_type": "markdown",
      "source": [
        "### Non-Linear Treatment"
      ],
      "metadata": {
        "id": "6Nuyo_2ydl7G"
      }
    },
    {
      "cell_type": "markdown",
      "source": [
        "**Question 9 How does the assumption of linearity in treatment effects pose a limitation in causal modeling, particularly in scenarios where treatment effects may not be linear?**"
      ],
      "metadata": {
        "id": "RMTr8Z5_dt0r"
      }
    },
    {
      "cell_type": "markdown",
      "source": [
        "- In causal modeling, assuming linearity in treatment effects can be limiting because treatment effects often change with the level of the treatment itself, commonly exhibiting saturation or diminishing returns.\n",
        "- This non-linearity means that different segments of the treatment (e.g., price range) can have varying elasticities, complicating the modeling and prediction of treatment effects across different conditions."
      ],
      "metadata": {
        "id": "19u5arSVd3DP"
      }
    },
    {
      "cell_type": "markdown",
      "source": [
        "## Case Study"
      ],
      "metadata": {
        "id": "g90VwrSAuMmM"
      }
    },
    {
      "cell_type": "markdown",
      "source": [
        "### Binary Treatment Scenario"
      ],
      "metadata": {
        "id": "nRCDO8b6iK73"
      }
    },
    {
      "cell_type": "markdown",
      "source": [
        "***Using a drug treatment dataset, how can we identify which patient types exhibit a more positive response to the drug (higher CATE) and which may experience a negative response (CATE < 0)?***"
      ],
      "metadata": {
        "id": "uLYdmUKIY_Vj"
      }
    },
    {
      "cell_type": "markdown",
      "source": [
        "**Dataset**"
      ],
      "metadata": {
        "id": "5xZpIdXGRG0u"
      }
    },
    {
      "cell_type": "markdown",
      "source": [
        "You can use the nb21 library."
      ],
      "metadata": {
        "id": "qvwGhnCOh9KL"
      }
    },
    {
      "cell_type": "code",
      "source": [
        "import pandas as pd\n",
        "import numpy as np\n",
        "from sklearn.model_selection import train_test_split\n",
        "from sklearn.ensemble import GradientBoostingRegressor\n",
        "from matplotlib import pyplot as plt\n",
        "import seaborn as sns"
      ],
      "metadata": {
        "id": "CfYc9-sjggHt"
      },
      "execution_count": 1,
      "outputs": []
    },
    {
      "cell_type": "code",
      "execution_count": 127,
      "metadata": {
        "id": "F7qLqI9bQ-7C"
      },
      "outputs": [],
      "source": [
        "import pandas as pd\n",
        "import numpy as np\n",
        "\n",
        "np.random.seed(432)\n",
        "n_patients = 1000\n",
        "ages = np.random.normal(50, 20, n_patients)\n",
        "weights_kg = np.random.uniform(30, 100, n_patients)\n",
        "weights_lb = weights_kg * 2.20462\n",
        "comorbid = np.random.binomial(1, 0.2, n_patients)\n",
        "\n",
        "# Binary Treatment Scenario\n",
        "treatment = np.random.binomial(1, 0.5, n_patients)\n",
        "\n",
        "# Calculating effect\n",
        "effect = 2.0 * treatment - 0.05 * ages + 0.015 * weights_lb - 0.7 * comorbid * treatment + np.random.normal(0, 0.1, size=n_patients)\n",
        "outcome = np.random.binomial(1, p=1 / (1 + np.exp(-effect)), size=n_patients)\n",
        "\n",
        "data = pd.DataFrame({\n",
        "    'age': ages,\n",
        "    'weight': weights_lb,\n",
        "    'comorbid': comorbid,\n",
        "    'drug': treatment,\n",
        "    'outcome': outcome\n",
        "})"
      ]
    },
    {
      "cell_type": "markdown",
      "source": [
        "1. age: Age of the customer.\n",
        "2. weight: Weight of the customer.\n",
        "3. comorbid: Pre-existing medical conditions of the patient.\n",
        "4. drug(treatment): The dosage of the drug administered to the patient, typically measured in milligrams or as a categorical variable indicating low, medium, or high dosage.\n",
        "5. outcome: The response of the patient to the treatment, which could be measured as an improvement score, change in symptoms, or a binary variable indicating success (1) or failure (0) of the treament."
      ],
      "metadata": {
        "id": "9MucCFijRvBY"
      }
    },
    {
      "cell_type": "code",
      "source": [
        "data.head()"
      ],
      "metadata": {
        "colab": {
          "base_uri": "https://localhost:8080/",
          "height": 206
        },
        "id": "eXKG0Ze-u580",
        "outputId": "8fa6f297-dc1e-41ed-f2f3-5316faf16e94"
      },
      "execution_count": 128,
      "outputs": [
        {
          "output_type": "execute_result",
          "data": {
            "text/plain": [
              "         age      weight  comorbid  drug  outcome\n",
              "0  53.737545  195.866326         0     0        1\n",
              "1  50.689946  155.108131         1     1        1\n",
              "2  42.304912  147.727213         1     1        1\n",
              "3  59.291804  156.368332         0     1        1\n",
              "4  62.017850  144.000016         0     0        0"
            ],
            "text/html": [
              "\n",
              "  <div id=\"df-ae18ad55-e134-4428-a5e3-4c0295e9e100\" class=\"colab-df-container\">\n",
              "    <div>\n",
              "<style scoped>\n",
              "    .dataframe tbody tr th:only-of-type {\n",
              "        vertical-align: middle;\n",
              "    }\n",
              "\n",
              "    .dataframe tbody tr th {\n",
              "        vertical-align: top;\n",
              "    }\n",
              "\n",
              "    .dataframe thead th {\n",
              "        text-align: right;\n",
              "    }\n",
              "</style>\n",
              "<table border=\"1\" class=\"dataframe\">\n",
              "  <thead>\n",
              "    <tr style=\"text-align: right;\">\n",
              "      <th></th>\n",
              "      <th>age</th>\n",
              "      <th>weight</th>\n",
              "      <th>comorbid</th>\n",
              "      <th>drug</th>\n",
              "      <th>outcome</th>\n",
              "    </tr>\n",
              "  </thead>\n",
              "  <tbody>\n",
              "    <tr>\n",
              "      <th>0</th>\n",
              "      <td>53.737545</td>\n",
              "      <td>195.866326</td>\n",
              "      <td>0</td>\n",
              "      <td>0</td>\n",
              "      <td>1</td>\n",
              "    </tr>\n",
              "    <tr>\n",
              "      <th>1</th>\n",
              "      <td>50.689946</td>\n",
              "      <td>155.108131</td>\n",
              "      <td>1</td>\n",
              "      <td>1</td>\n",
              "      <td>1</td>\n",
              "    </tr>\n",
              "    <tr>\n",
              "      <th>2</th>\n",
              "      <td>42.304912</td>\n",
              "      <td>147.727213</td>\n",
              "      <td>1</td>\n",
              "      <td>1</td>\n",
              "      <td>1</td>\n",
              "    </tr>\n",
              "    <tr>\n",
              "      <th>3</th>\n",
              "      <td>59.291804</td>\n",
              "      <td>156.368332</td>\n",
              "      <td>0</td>\n",
              "      <td>1</td>\n",
              "      <td>1</td>\n",
              "    </tr>\n",
              "    <tr>\n",
              "      <th>4</th>\n",
              "      <td>62.017850</td>\n",
              "      <td>144.000016</td>\n",
              "      <td>0</td>\n",
              "      <td>0</td>\n",
              "      <td>0</td>\n",
              "    </tr>\n",
              "  </tbody>\n",
              "</table>\n",
              "</div>\n",
              "    <div class=\"colab-df-buttons\">\n",
              "\n",
              "  <div class=\"colab-df-container\">\n",
              "    <button class=\"colab-df-convert\" onclick=\"convertToInteractive('df-ae18ad55-e134-4428-a5e3-4c0295e9e100')\"\n",
              "            title=\"Convert this dataframe to an interactive table.\"\n",
              "            style=\"display:none;\">\n",
              "\n",
              "  <svg xmlns=\"http://www.w3.org/2000/svg\" height=\"24px\" viewBox=\"0 -960 960 960\">\n",
              "    <path d=\"M120-120v-720h720v720H120Zm60-500h600v-160H180v160Zm220 220h160v-160H400v160Zm0 220h160v-160H400v160ZM180-400h160v-160H180v160Zm440 0h160v-160H620v160ZM180-180h160v-160H180v160Zm440 0h160v-160H620v160Z\"/>\n",
              "  </svg>\n",
              "    </button>\n",
              "\n",
              "  <style>\n",
              "    .colab-df-container {\n",
              "      display:flex;\n",
              "      gap: 12px;\n",
              "    }\n",
              "\n",
              "    .colab-df-convert {\n",
              "      background-color: #E8F0FE;\n",
              "      border: none;\n",
              "      border-radius: 50%;\n",
              "      cursor: pointer;\n",
              "      display: none;\n",
              "      fill: #1967D2;\n",
              "      height: 32px;\n",
              "      padding: 0 0 0 0;\n",
              "      width: 32px;\n",
              "    }\n",
              "\n",
              "    .colab-df-convert:hover {\n",
              "      background-color: #E2EBFA;\n",
              "      box-shadow: 0px 1px 2px rgba(60, 64, 67, 0.3), 0px 1px 3px 1px rgba(60, 64, 67, 0.15);\n",
              "      fill: #174EA6;\n",
              "    }\n",
              "\n",
              "    .colab-df-buttons div {\n",
              "      margin-bottom: 4px;\n",
              "    }\n",
              "\n",
              "    [theme=dark] .colab-df-convert {\n",
              "      background-color: #3B4455;\n",
              "      fill: #D2E3FC;\n",
              "    }\n",
              "\n",
              "    [theme=dark] .colab-df-convert:hover {\n",
              "      background-color: #434B5C;\n",
              "      box-shadow: 0px 1px 3px 1px rgba(0, 0, 0, 0.15);\n",
              "      filter: drop-shadow(0px 1px 2px rgba(0, 0, 0, 0.3));\n",
              "      fill: #FFFFFF;\n",
              "    }\n",
              "  </style>\n",
              "\n",
              "    <script>\n",
              "      const buttonEl =\n",
              "        document.querySelector('#df-ae18ad55-e134-4428-a5e3-4c0295e9e100 button.colab-df-convert');\n",
              "      buttonEl.style.display =\n",
              "        google.colab.kernel.accessAllowed ? 'block' : 'none';\n",
              "\n",
              "      async function convertToInteractive(key) {\n",
              "        const element = document.querySelector('#df-ae18ad55-e134-4428-a5e3-4c0295e9e100');\n",
              "        const dataTable =\n",
              "          await google.colab.kernel.invokeFunction('convertToInteractive',\n",
              "                                                    [key], {});\n",
              "        if (!dataTable) return;\n",
              "\n",
              "        const docLinkHtml = 'Like what you see? Visit the ' +\n",
              "          '<a target=\"_blank\" href=https://colab.research.google.com/notebooks/data_table.ipynb>data table notebook</a>'\n",
              "          + ' to learn more about interactive tables.';\n",
              "        element.innerHTML = '';\n",
              "        dataTable['output_type'] = 'display_data';\n",
              "        await google.colab.output.renderOutput(dataTable, element);\n",
              "        const docLink = document.createElement('div');\n",
              "        docLink.innerHTML = docLinkHtml;\n",
              "        element.appendChild(docLink);\n",
              "      }\n",
              "    </script>\n",
              "  </div>\n",
              "\n",
              "\n",
              "<div id=\"df-7846025f-42e1-406a-a85f-39d96237eb7b\">\n",
              "  <button class=\"colab-df-quickchart\" onclick=\"quickchart('df-7846025f-42e1-406a-a85f-39d96237eb7b')\"\n",
              "            title=\"Suggest charts\"\n",
              "            style=\"display:none;\">\n",
              "\n",
              "<svg xmlns=\"http://www.w3.org/2000/svg\" height=\"24px\"viewBox=\"0 0 24 24\"\n",
              "     width=\"24px\">\n",
              "    <g>\n",
              "        <path d=\"M19 3H5c-1.1 0-2 .9-2 2v14c0 1.1.9 2 2 2h14c1.1 0 2-.9 2-2V5c0-1.1-.9-2-2-2zM9 17H7v-7h2v7zm4 0h-2V7h2v10zm4 0h-2v-4h2v4z\"/>\n",
              "    </g>\n",
              "</svg>\n",
              "  </button>\n",
              "\n",
              "<style>\n",
              "  .colab-df-quickchart {\n",
              "      --bg-color: #E8F0FE;\n",
              "      --fill-color: #1967D2;\n",
              "      --hover-bg-color: #E2EBFA;\n",
              "      --hover-fill-color: #174EA6;\n",
              "      --disabled-fill-color: #AAA;\n",
              "      --disabled-bg-color: #DDD;\n",
              "  }\n",
              "\n",
              "  [theme=dark] .colab-df-quickchart {\n",
              "      --bg-color: #3B4455;\n",
              "      --fill-color: #D2E3FC;\n",
              "      --hover-bg-color: #434B5C;\n",
              "      --hover-fill-color: #FFFFFF;\n",
              "      --disabled-bg-color: #3B4455;\n",
              "      --disabled-fill-color: #666;\n",
              "  }\n",
              "\n",
              "  .colab-df-quickchart {\n",
              "    background-color: var(--bg-color);\n",
              "    border: none;\n",
              "    border-radius: 50%;\n",
              "    cursor: pointer;\n",
              "    display: none;\n",
              "    fill: var(--fill-color);\n",
              "    height: 32px;\n",
              "    padding: 0;\n",
              "    width: 32px;\n",
              "  }\n",
              "\n",
              "  .colab-df-quickchart:hover {\n",
              "    background-color: var(--hover-bg-color);\n",
              "    box-shadow: 0 1px 2px rgba(60, 64, 67, 0.3), 0 1px 3px 1px rgba(60, 64, 67, 0.15);\n",
              "    fill: var(--button-hover-fill-color);\n",
              "  }\n",
              "\n",
              "  .colab-df-quickchart-complete:disabled,\n",
              "  .colab-df-quickchart-complete:disabled:hover {\n",
              "    background-color: var(--disabled-bg-color);\n",
              "    fill: var(--disabled-fill-color);\n",
              "    box-shadow: none;\n",
              "  }\n",
              "\n",
              "  .colab-df-spinner {\n",
              "    border: 2px solid var(--fill-color);\n",
              "    border-color: transparent;\n",
              "    border-bottom-color: var(--fill-color);\n",
              "    animation:\n",
              "      spin 1s steps(1) infinite;\n",
              "  }\n",
              "\n",
              "  @keyframes spin {\n",
              "    0% {\n",
              "      border-color: transparent;\n",
              "      border-bottom-color: var(--fill-color);\n",
              "      border-left-color: var(--fill-color);\n",
              "    }\n",
              "    20% {\n",
              "      border-color: transparent;\n",
              "      border-left-color: var(--fill-color);\n",
              "      border-top-color: var(--fill-color);\n",
              "    }\n",
              "    30% {\n",
              "      border-color: transparent;\n",
              "      border-left-color: var(--fill-color);\n",
              "      border-top-color: var(--fill-color);\n",
              "      border-right-color: var(--fill-color);\n",
              "    }\n",
              "    40% {\n",
              "      border-color: transparent;\n",
              "      border-right-color: var(--fill-color);\n",
              "      border-top-color: var(--fill-color);\n",
              "    }\n",
              "    60% {\n",
              "      border-color: transparent;\n",
              "      border-right-color: var(--fill-color);\n",
              "    }\n",
              "    80% {\n",
              "      border-color: transparent;\n",
              "      border-right-color: var(--fill-color);\n",
              "      border-bottom-color: var(--fill-color);\n",
              "    }\n",
              "    90% {\n",
              "      border-color: transparent;\n",
              "      border-bottom-color: var(--fill-color);\n",
              "    }\n",
              "  }\n",
              "</style>\n",
              "\n",
              "  <script>\n",
              "    async function quickchart(key) {\n",
              "      const quickchartButtonEl =\n",
              "        document.querySelector('#' + key + ' button');\n",
              "      quickchartButtonEl.disabled = true;  // To prevent multiple clicks.\n",
              "      quickchartButtonEl.classList.add('colab-df-spinner');\n",
              "      try {\n",
              "        const charts = await google.colab.kernel.invokeFunction(\n",
              "            'suggestCharts', [key], {});\n",
              "      } catch (error) {\n",
              "        console.error('Error during call to suggestCharts:', error);\n",
              "      }\n",
              "      quickchartButtonEl.classList.remove('colab-df-spinner');\n",
              "      quickchartButtonEl.classList.add('colab-df-quickchart-complete');\n",
              "    }\n",
              "    (() => {\n",
              "      let quickchartButtonEl =\n",
              "        document.querySelector('#df-7846025f-42e1-406a-a85f-39d96237eb7b button');\n",
              "      quickchartButtonEl.style.display =\n",
              "        google.colab.kernel.accessAllowed ? 'block' : 'none';\n",
              "    })();\n",
              "  </script>\n",
              "</div>\n",
              "    </div>\n",
              "  </div>\n"
            ],
            "application/vnd.google.colaboratory.intrinsic+json": {
              "type": "dataframe",
              "variable_name": "data",
              "summary": "{\n  \"name\": \"data\",\n  \"rows\": 1000,\n  \"fields\": [\n    {\n      \"column\": \"age\",\n      \"properties\": {\n        \"dtype\": \"number\",\n        \"std\": 19.429565724032585,\n        \"min\": -11.936313362565855,\n        \"max\": 113.68900747594537,\n        \"num_unique_values\": 1000,\n        \"samples\": [\n          54.31777132551754,\n          34.67557379351157,\n          32.5347874124534\n        ],\n        \"semantic_type\": \"\",\n        \"description\": \"\"\n      }\n    },\n    {\n      \"column\": \"weight\",\n      \"properties\": {\n        \"dtype\": \"number\",\n        \"std\": 43.29381648693298,\n        \"min\": 66.2252179295123,\n        \"max\": 220.29768259592961,\n        \"num_unique_values\": 1000,\n        \"samples\": [\n          141.96418748474522,\n          120.75358332184393,\n          159.5563333522052\n        ],\n        \"semantic_type\": \"\",\n        \"description\": \"\"\n      }\n    },\n    {\n      \"column\": \"comorbid\",\n      \"properties\": {\n        \"dtype\": \"number\",\n        \"std\": 0,\n        \"min\": 0,\n        \"max\": 1,\n        \"num_unique_values\": 2,\n        \"samples\": [\n          1,\n          0\n        ],\n        \"semantic_type\": \"\",\n        \"description\": \"\"\n      }\n    },\n    {\n      \"column\": \"drug\",\n      \"properties\": {\n        \"dtype\": \"number\",\n        \"std\": 0,\n        \"min\": 0,\n        \"max\": 1,\n        \"num_unique_values\": 2,\n        \"samples\": [\n          1,\n          0\n        ],\n        \"semantic_type\": \"\",\n        \"description\": \"\"\n      }\n    },\n    {\n      \"column\": \"outcome\",\n      \"properties\": {\n        \"dtype\": \"number\",\n        \"std\": 0,\n        \"min\": 0,\n        \"max\": 1,\n        \"num_unique_values\": 2,\n        \"samples\": [\n          0,\n          1\n        ],\n        \"semantic_type\": \"\",\n        \"description\": \"\"\n      }\n    }\n  ]\n}"
            }
          },
          "metadata": {},
          "execution_count": 128
        }
      ]
    },
    {
      "cell_type": "markdown",
      "source": [
        "**1 Split the data into training and testing sets** <br>"
      ],
      "metadata": {
        "id": "5xUaDZiwTHMF"
      }
    },
    {
      "cell_type": "code",
      "source": [
        "train, test = train_test_split(data, test_size=0.4, random_state=123)\n",
        "print(train.shape, test.shape)"
      ],
      "metadata": {
        "colab": {
          "base_uri": "https://localhost:8080/"
        },
        "id": "wAk9ZJ7LUDc7",
        "outputId": "60f5453c-1e13-44af-b93d-52591bb7565f"
      },
      "execution_count": 129,
      "outputs": [
        {
          "output_type": "stream",
          "name": "stdout",
          "text": [
            "(600, 5) (400, 5)\n"
          ]
        }
      ]
    },
    {
      "cell_type": "markdown",
      "source": [
        "**2 Apply the target transformation**"
      ],
      "metadata": {
        "id": "YDN0MO6diuSn"
      }
    },
    {
      "cell_type": "markdown",
      "source": [
        "![image.png](data:image/png;base64,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)"
      ],
      "metadata": {
        "id": "QiM3LLhSjTJ4"
      }
    },
    {
      "cell_type": "code",
      "source": [
        "# Define variables\n",
        "y = \"outcome\"\n",
        "T = \"drug\"\n",
        "X = [\"age\", \"weight\", \"comorbid\"]\n",
        "\n",
        "# ps = the possibility of the treatment\n",
        "ps = train[T].mean()\n",
        "\n",
        "y_star_train = train[y] * (train[T] - ps)/(ps*(1-ps))"
      ],
      "metadata": {
        "id": "5ACcuyC8ihk9"
      },
      "execution_count": 130,
      "outputs": []
    },
    {
      "cell_type": "markdown",
      "source": [
        "**3 Pick any ML regression algorithm and test the prediction**"
      ],
      "metadata": {
        "id": "z--Ot2HijvEb"
      }
    },
    {
      "cell_type": "code",
      "source": [
        "from lightgbm import LGBMRegressor\n",
        "\n",
        "np.random.seed(123)\n",
        "cate_learner = LGBMRegressor(max_depth=3, min_child_samples=300, num_leaves=5)\n",
        "cate_learner.fit(train[X], y_star_train);"
      ],
      "metadata": {
        "id": "cJp8Bnmpjx2t"
      },
      "execution_count": null,
      "outputs": []
    },
    {
      "cell_type": "code",
      "source": [
        "test_pred = test.assign(cate=cate_learner.predict(test[X]))\n",
        "test_pred.head()"
      ],
      "metadata": {
        "colab": {
          "base_uri": "https://localhost:8080/",
          "height": 206
        },
        "id": "QqPeSM6Hj3vE",
        "outputId": "56268e7e-eafd-48f1-a35b-aaa4d8a2db0c"
      },
      "execution_count": 132,
      "outputs": [
        {
          "output_type": "execute_result",
          "data": {
            "text/plain": [
              "            age      weight  comorbid  drug  outcome      cate\n",
              "131   45.570996   87.970803         0     0        0  0.299526\n",
              "203   76.140052   82.811405         0     1        0  0.340963\n",
              "50    68.767191  148.920623         0     1        1  0.343255\n",
              "585  102.851942   69.390843         0     1        0  0.340963\n",
              "138   56.757926  161.773971         1     0        1  0.343255"
            ],
            "text/html": [
              "\n",
              "  <div id=\"df-c848e1c7-5485-4768-ae79-57b59a15a7b1\" class=\"colab-df-container\">\n",
              "    <div>\n",
              "<style scoped>\n",
              "    .dataframe tbody tr th:only-of-type {\n",
              "        vertical-align: middle;\n",
              "    }\n",
              "\n",
              "    .dataframe tbody tr th {\n",
              "        vertical-align: top;\n",
              "    }\n",
              "\n",
              "    .dataframe thead th {\n",
              "        text-align: right;\n",
              "    }\n",
              "</style>\n",
              "<table border=\"1\" class=\"dataframe\">\n",
              "  <thead>\n",
              "    <tr style=\"text-align: right;\">\n",
              "      <th></th>\n",
              "      <th>age</th>\n",
              "      <th>weight</th>\n",
              "      <th>comorbid</th>\n",
              "      <th>drug</th>\n",
              "      <th>outcome</th>\n",
              "      <th>cate</th>\n",
              "    </tr>\n",
              "  </thead>\n",
              "  <tbody>\n",
              "    <tr>\n",
              "      <th>131</th>\n",
              "      <td>45.570996</td>\n",
              "      <td>87.970803</td>\n",
              "      <td>0</td>\n",
              "      <td>0</td>\n",
              "      <td>0</td>\n",
              "      <td>0.299526</td>\n",
              "    </tr>\n",
              "    <tr>\n",
              "      <th>203</th>\n",
              "      <td>76.140052</td>\n",
              "      <td>82.811405</td>\n",
              "      <td>0</td>\n",
              "      <td>1</td>\n",
              "      <td>0</td>\n",
              "      <td>0.340963</td>\n",
              "    </tr>\n",
              "    <tr>\n",
              "      <th>50</th>\n",
              "      <td>68.767191</td>\n",
              "      <td>148.920623</td>\n",
              "      <td>0</td>\n",
              "      <td>1</td>\n",
              "      <td>1</td>\n",
              "      <td>0.343255</td>\n",
              "    </tr>\n",
              "    <tr>\n",
              "      <th>585</th>\n",
              "      <td>102.851942</td>\n",
              "      <td>69.390843</td>\n",
              "      <td>0</td>\n",
              "      <td>1</td>\n",
              "      <td>0</td>\n",
              "      <td>0.340963</td>\n",
              "    </tr>\n",
              "    <tr>\n",
              "      <th>138</th>\n",
              "      <td>56.757926</td>\n",
              "      <td>161.773971</td>\n",
              "      <td>1</td>\n",
              "      <td>0</td>\n",
              "      <td>1</td>\n",
              "      <td>0.343255</td>\n",
              "    </tr>\n",
              "  </tbody>\n",
              "</table>\n",
              "</div>\n",
              "    <div class=\"colab-df-buttons\">\n",
              "\n",
              "  <div class=\"colab-df-container\">\n",
              "    <button class=\"colab-df-convert\" onclick=\"convertToInteractive('df-c848e1c7-5485-4768-ae79-57b59a15a7b1')\"\n",
              "            title=\"Convert this dataframe to an interactive table.\"\n",
              "            style=\"display:none;\">\n",
              "\n",
              "  <svg xmlns=\"http://www.w3.org/2000/svg\" height=\"24px\" viewBox=\"0 -960 960 960\">\n",
              "    <path d=\"M120-120v-720h720v720H120Zm60-500h600v-160H180v160Zm220 220h160v-160H400v160Zm0 220h160v-160H400v160ZM180-400h160v-160H180v160Zm440 0h160v-160H620v160ZM180-180h160v-160H180v160Zm440 0h160v-160H620v160Z\"/>\n",
              "  </svg>\n",
              "    </button>\n",
              "\n",
              "  <style>\n",
              "    .colab-df-container {\n",
              "      display:flex;\n",
              "      gap: 12px;\n",
              "    }\n",
              "\n",
              "    .colab-df-convert {\n",
              "      background-color: #E8F0FE;\n",
              "      border: none;\n",
              "      border-radius: 50%;\n",
              "      cursor: pointer;\n",
              "      display: none;\n",
              "      fill: #1967D2;\n",
              "      height: 32px;\n",
              "      padding: 0 0 0 0;\n",
              "      width: 32px;\n",
              "    }\n",
              "\n",
              "    .colab-df-convert:hover {\n",
              "      background-color: #E2EBFA;\n",
              "      box-shadow: 0px 1px 2px rgba(60, 64, 67, 0.3), 0px 1px 3px 1px rgba(60, 64, 67, 0.15);\n",
              "      fill: #174EA6;\n",
              "    }\n",
              "\n",
              "    .colab-df-buttons div {\n",
              "      margin-bottom: 4px;\n",
              "    }\n",
              "\n",
              "    [theme=dark] .colab-df-convert {\n",
              "      background-color: #3B4455;\n",
              "      fill: #D2E3FC;\n",
              "    }\n",
              "\n",
              "    [theme=dark] .colab-df-convert:hover {\n",
              "      background-color: #434B5C;\n",
              "      box-shadow: 0px 1px 3px 1px rgba(0, 0, 0, 0.15);\n",
              "      filter: drop-shadow(0px 1px 2px rgba(0, 0, 0, 0.3));\n",
              "      fill: #FFFFFF;\n",
              "    }\n",
              "  </style>\n",
              "\n",
              "    <script>\n",
              "      const buttonEl =\n",
              "        document.querySelector('#df-c848e1c7-5485-4768-ae79-57b59a15a7b1 button.colab-df-convert');\n",
              "      buttonEl.style.display =\n",
              "        google.colab.kernel.accessAllowed ? 'block' : 'none';\n",
              "\n",
              "      async function convertToInteractive(key) {\n",
              "        const element = document.querySelector('#df-c848e1c7-5485-4768-ae79-57b59a15a7b1');\n",
              "        const dataTable =\n",
              "          await google.colab.kernel.invokeFunction('convertToInteractive',\n",
              "                                                    [key], {});\n",
              "        if (!dataTable) return;\n",
              "\n",
              "        const docLinkHtml = 'Like what you see? Visit the ' +\n",
              "          '<a target=\"_blank\" href=https://colab.research.google.com/notebooks/data_table.ipynb>data table notebook</a>'\n",
              "          + ' to learn more about interactive tables.';\n",
              "        element.innerHTML = '';\n",
              "        dataTable['output_type'] = 'display_data';\n",
              "        await google.colab.output.renderOutput(dataTable, element);\n",
              "        const docLink = document.createElement('div');\n",
              "        docLink.innerHTML = docLinkHtml;\n",
              "        element.appendChild(docLink);\n",
              "      }\n",
              "    </script>\n",
              "  </div>\n",
              "\n",
              "\n",
              "<div id=\"df-865a65f8-42c0-41cc-a3a0-db787c8ba5e4\">\n",
              "  <button class=\"colab-df-quickchart\" onclick=\"quickchart('df-865a65f8-42c0-41cc-a3a0-db787c8ba5e4')\"\n",
              "            title=\"Suggest charts\"\n",
              "            style=\"display:none;\">\n",
              "\n",
              "<svg xmlns=\"http://www.w3.org/2000/svg\" height=\"24px\"viewBox=\"0 0 24 24\"\n",
              "     width=\"24px\">\n",
              "    <g>\n",
              "        <path d=\"M19 3H5c-1.1 0-2 .9-2 2v14c0 1.1.9 2 2 2h14c1.1 0 2-.9 2-2V5c0-1.1-.9-2-2-2zM9 17H7v-7h2v7zm4 0h-2V7h2v10zm4 0h-2v-4h2v4z\"/>\n",
              "    </g>\n",
              "</svg>\n",
              "  </button>\n",
              "\n",
              "<style>\n",
              "  .colab-df-quickchart {\n",
              "      --bg-color: #E8F0FE;\n",
              "      --fill-color: #1967D2;\n",
              "      --hover-bg-color: #E2EBFA;\n",
              "      --hover-fill-color: #174EA6;\n",
              "      --disabled-fill-color: #AAA;\n",
              "      --disabled-bg-color: #DDD;\n",
              "  }\n",
              "\n",
              "  [theme=dark] .colab-df-quickchart {\n",
              "      --bg-color: #3B4455;\n",
              "      --fill-color: #D2E3FC;\n",
              "      --hover-bg-color: #434B5C;\n",
              "      --hover-fill-color: #FFFFFF;\n",
              "      --disabled-bg-color: #3B4455;\n",
              "      --disabled-fill-color: #666;\n",
              "  }\n",
              "\n",
              "  .colab-df-quickchart {\n",
              "    background-color: var(--bg-color);\n",
              "    border: none;\n",
              "    border-radius: 50%;\n",
              "    cursor: pointer;\n",
              "    display: none;\n",
              "    fill: var(--fill-color);\n",
              "    height: 32px;\n",
              "    padding: 0;\n",
              "    width: 32px;\n",
              "  }\n",
              "\n",
              "  .colab-df-quickchart:hover {\n",
              "    background-color: var(--hover-bg-color);\n",
              "    box-shadow: 0 1px 2px rgba(60, 64, 67, 0.3), 0 1px 3px 1px rgba(60, 64, 67, 0.15);\n",
              "    fill: var(--button-hover-fill-color);\n",
              "  }\n",
              "\n",
              "  .colab-df-quickchart-complete:disabled,\n",
              "  .colab-df-quickchart-complete:disabled:hover {\n",
              "    background-color: var(--disabled-bg-color);\n",
              "    fill: var(--disabled-fill-color);\n",
              "    box-shadow: none;\n",
              "  }\n",
              "\n",
              "  .colab-df-spinner {\n",
              "    border: 2px solid var(--fill-color);\n",
              "    border-color: transparent;\n",
              "    border-bottom-color: var(--fill-color);\n",
              "    animation:\n",
              "      spin 1s steps(1) infinite;\n",
              "  }\n",
              "\n",
              "  @keyframes spin {\n",
              "    0% {\n",
              "      border-color: transparent;\n",
              "      border-bottom-color: var(--fill-color);\n",
              "      border-left-color: var(--fill-color);\n",
              "    }\n",
              "    20% {\n",
              "      border-color: transparent;\n",
              "      border-left-color: var(--fill-color);\n",
              "      border-top-color: var(--fill-color);\n",
              "    }\n",
              "    30% {\n",
              "      border-color: transparent;\n",
              "      border-left-color: var(--fill-color);\n",
              "      border-top-color: var(--fill-color);\n",
              "      border-right-color: var(--fill-color);\n",
              "    }\n",
              "    40% {\n",
              "      border-color: transparent;\n",
              "      border-right-color: var(--fill-color);\n",
              "      border-top-color: var(--fill-color);\n",
              "    }\n",
              "    60% {\n",
              "      border-color: transparent;\n",
              "      border-right-color: var(--fill-color);\n",
              "    }\n",
              "    80% {\n",
              "      border-color: transparent;\n",
              "      border-right-color: var(--fill-color);\n",
              "      border-bottom-color: var(--fill-color);\n",
              "    }\n",
              "    90% {\n",
              "      border-color: transparent;\n",
              "      border-bottom-color: var(--fill-color);\n",
              "    }\n",
              "  }\n",
              "</style>\n",
              "\n",
              "  <script>\n",
              "    async function quickchart(key) {\n",
              "      const quickchartButtonEl =\n",
              "        document.querySelector('#' + key + ' button');\n",
              "      quickchartButtonEl.disabled = true;  // To prevent multiple clicks.\n",
              "      quickchartButtonEl.classList.add('colab-df-spinner');\n",
              "      try {\n",
              "        const charts = await google.colab.kernel.invokeFunction(\n",
              "            'suggestCharts', [key], {});\n",
              "      } catch (error) {\n",
              "        console.error('Error during call to suggestCharts:', error);\n",
              "      }\n",
              "      quickchartButtonEl.classList.remove('colab-df-spinner');\n",
              "      quickchartButtonEl.classList.add('colab-df-quickchart-complete');\n",
              "    }\n",
              "    (() => {\n",
              "      let quickchartButtonEl =\n",
              "        document.querySelector('#df-865a65f8-42c0-41cc-a3a0-db787c8ba5e4 button');\n",
              "      quickchartButtonEl.style.display =\n",
              "        google.colab.kernel.accessAllowed ? 'block' : 'none';\n",
              "    })();\n",
              "  </script>\n",
              "</div>\n",
              "    </div>\n",
              "  </div>\n"
            ],
            "application/vnd.google.colaboratory.intrinsic+json": {
              "type": "dataframe",
              "variable_name": "test_pred",
              "summary": "{\n  \"name\": \"test_pred\",\n  \"rows\": 400,\n  \"fields\": [\n    {\n      \"column\": \"age\",\n      \"properties\": {\n        \"dtype\": \"number\",\n        \"std\": 19.455575586700835,\n        \"min\": -11.936313362565855,\n        \"max\": 113.68900747594537,\n        \"num_unique_values\": 400,\n        \"samples\": [\n          46.55293206644039,\n          72.71463797099487,\n          43.672730209801735\n        ],\n        \"semantic_type\": \"\",\n        \"description\": \"\"\n      }\n    },\n    {\n      \"column\": \"weight\",\n      \"properties\": {\n        \"dtype\": \"number\",\n        \"std\": 43.78532177164912,\n        \"min\": 66.37551634724448,\n        \"max\": 220.2028824172723,\n        \"num_unique_values\": 400,\n        \"samples\": [\n          215.68165236264008,\n          68.17025445712368,\n          86.7472209758088\n        ],\n        \"semantic_type\": \"\",\n        \"description\": \"\"\n      }\n    },\n    {\n      \"column\": \"comorbid\",\n      \"properties\": {\n        \"dtype\": \"number\",\n        \"std\": 0,\n        \"min\": 0,\n        \"max\": 1,\n        \"num_unique_values\": 2,\n        \"samples\": [\n          1,\n          0\n        ],\n        \"semantic_type\": \"\",\n        \"description\": \"\"\n      }\n    },\n    {\n      \"column\": \"drug\",\n      \"properties\": {\n        \"dtype\": \"number\",\n        \"std\": 0,\n        \"min\": 0,\n        \"max\": 1,\n        \"num_unique_values\": 2,\n        \"samples\": [\n          1,\n          0\n        ],\n        \"semantic_type\": \"\",\n        \"description\": \"\"\n      }\n    },\n    {\n      \"column\": \"outcome\",\n      \"properties\": {\n        \"dtype\": \"number\",\n        \"std\": 0,\n        \"min\": 0,\n        \"max\": 1,\n        \"num_unique_values\": 2,\n        \"samples\": [\n          1,\n          0\n        ],\n        \"semantic_type\": \"\",\n        \"description\": \"\"\n      }\n    },\n    {\n      \"column\": \"cate\",\n      \"properties\": {\n        \"dtype\": \"number\",\n        \"std\": 0.02074196320681729,\n        \"min\": 0.2995258357922235,\n        \"max\": 0.3432550464967887,\n        \"num_unique_values\": 4,\n        \"samples\": [\n          0.34096252925197273,\n          0.30181835303703947\n        ],\n        \"semantic_type\": \"\",\n        \"description\": \"\"\n      }\n    }\n  ]\n}"
            }
          },
          "metadata": {},
          "execution_count": 132
        }
      ]
    },
    {
      "cell_type": "markdown",
      "source": [
        "**4 Plot and interpret the results**"
      ],
      "metadata": {
        "id": "cZuF08B2kBMw"
      }
    },
    {
      "cell_type": "code",
      "source": [
        "def cumulative_gain(data, score_col, y_true, treatment_col):\n",
        "    data = data.sort_values(by=score_col, ascending=False)\n",
        "    data['cumulative_n'] = np.arange(1, len(data) + 1)\n",
        "    data['cumulative_positive'] = data[y_true].cumsum()\n",
        "    data['baseline'] = data[y_true].sum() * data['cumulative_n'] / len(data)\n",
        "    return 100 * data['cumulative_positive'] / data[y_true].sum(), 100 * data['cumulative_n'] / len(data), 100 * data['baseline'] / data[y_true].sum()\n",
        "\n",
        "def plot_cumulative_gain(data, score_col, y_true, treatment_col):\n",
        "    gain_curve, percentiles, baseline = cumulative_gain(data, score_col, y_true, treatment_col)\n",
        "    plt.figure(figsize=(8, 5))\n",
        "    plt.plot(percentiles, gain_curve, label='Cumulative Gain', color='C0')\n",
        "    plt.plot(percentiles, baseline, label='Baseline', linestyle='--', color='black')\n",
        "    plt.xlabel('Percentage of Sample')\n",
        "    plt.ylabel('Cumulative Gain')\n",
        "    plt.title('Cumulative Gain Curve')\n",
        "    plt.legend()\n",
        "    plt.show()"
      ],
      "metadata": {
        "id": "87wOmhlDkEEa"
      },
      "execution_count": 133,
      "outputs": []
    },
    {
      "cell_type": "code",
      "source": [
        "plot_cumulative_gain(test_pred, 'cate', 'outcome', 'drug')"
      ],
      "metadata": {
        "colab": {
          "base_uri": "https://localhost:8080/",
          "height": 487
        },
        "id": "IWIklkEAmHol",
        "outputId": "9a904b86-6740-41e6-be4b-3b04b6a8ef33"
      },
      "execution_count": 134,
      "outputs": [
        {
          "output_type": "display_data",
          "data": {
            "text/plain": [
              "<Figure size 800x500 with 1 Axes>"
            ],
            "image/png": "[encoded data removed]"
          },
          "metadata": {}
        }
      ]
    },
    {
      "cell_type": "code",
      "source": [
        "train_pred = train.assign(cate=cate_learner.predict(train[X]))\n",
        "plot_cumulative_gain(train_pred, 'cate', 'outcome', 'drug')"
      ],
      "metadata": {
        "colab": {
          "base_uri": "https://localhost:8080/",
          "height": 487
        },
        "id": "QGlHRvrvmiiw",
        "outputId": "25b4c8fb-60dc-461a-bd59-eb455e9e094f"
      },
      "execution_count": 114,
      "outputs": [
        {
          "output_type": "display_data",
          "data": {
            "text/plain": [
              "<Figure size 800x500 with 1 Axes>"
            ],
            "image/png": "[encoded data removed]"
          },
          "metadata": {}
        }
      ]
    },
    {
      "cell_type": "code",
      "source": [
        "import matplotlib.pyplot as plt\n",
        "import seaborn as sns\n",
        "\n",
        "sns.histplot(train_pred['cate'], color=\"blue\", label=\"Train CATE\", kde=True)\n",
        "sns.histplot(test_pred['cate'], color=\"red\", label=\"Test CATE\", kde=True)\n",
        "plt.legend()\n",
        "plt.title('Distribution of Predicted CATE Across Train and Test Sets')\n",
        "plt.xlabel('Predicted CATE')\n",
        "plt.ylabel('Frequency')\n",
        "plt.show()"
      ],
      "metadata": {
        "colab": {
          "base_uri": "https://localhost:8080/",
          "height": 472
        },
        "id": "ZgKEaqPUub6_",
        "outputId": "46e811b7-2b39-48bf-ba8e-bcbb7f5a55a6"
      },
      "execution_count": 138,
      "outputs": [
        {
          "output_type": "display_data",
          "data": {
            "text/plain": [
              "<Figure size 640x480 with 1 Axes>"
            ],
            "image/png": "[encoded data removed]"
          },
          "metadata": {}
        }
      ]
    },
    {
      "cell_type": "markdown",
      "source": [
        "Given the CATE distribution primarily between 0.300.31 and 0.330.34 with no values below zero, it seems your model is not predicting any negative treatment effects (CATE < 0). This suggests that, according to your model, the drug has a positive effect on all patients, although the effect size varies slightly within a narrow range."
      ],
      "metadata": {
        "id": "CkuXOsgkuxPi"
      }
    },
    {
      "cell_type": "markdown",
      "source": [
        "### Continuous Treatment Scenario"
      ],
      "metadata": {
        "id": "-3VLbAbHn49F"
      }
    },
    {
      "cell_type": "markdown",
      "source": [
        "***Using a continuous drug dosage dataset, how can we identify which patient types exhibit a more positive response to varying drug dosages (higher CATE) and which may experience a negative response (CATE < 0)***"
      ],
      "metadata": {
        "id": "0zYI21-0mrYz"
      }
    },
    {
      "cell_type": "code",
      "source": [
        "np.random.seed(432)\n",
        "n_patients = 1000\n",
        "ages2 = np.random.normal(50, 12, n_patients)\n",
        "weights2 = np.random.normal(70, 15, n_patients)\n",
        "comorbid2 = np.random.binomial(1, 0.3, n_patients)\n",
        "\n",
        "# Simulating treatment assignment randomly\n",
        "treatment2 = np.random.uniform(0, 10, n_patients)\n",
        "\n",
        "# Generating outcome variable\n",
        "effect2 = 0.05 * treatment2 - 0.02 * ages2 + 0.01 * weights2 - 0.3 * comorbid2 * treatment2\n",
        "outcome2 = 3 + effect2 + np.random.normal(0, 0.5, n_patients)\n",
        "\n",
        "data2 = pd.DataFrame({\n",
        "    'age': ages2,\n",
        "    'weight': weights2,\n",
        "    'comorbid': comorbid2,\n",
        "    'dosage': treatment2,\n",
        "    'outcome': outcome2\n",
        "})\n",
        "data2.head()"
      ],
      "metadata": {
        "colab": {
          "base_uri": "https://localhost:8080/",
          "height": 206
        },
        "id": "8h5f5-41mzTE",
        "outputId": "2dedd5f2-93b0-475a-a316-dd8910c16dec"
      },
      "execution_count": 38,
      "outputs": [
        {
          "output_type": "execute_result",
          "data": {
            "text/plain": [
              "         age      weight  comorbid    dosage   outcome\n",
              "0  52.242527   73.940734         0  3.795477  3.377968\n",
              "1  50.413968   87.543337         1  8.082877  0.274842\n",
              "2  45.382947  107.279829         1  7.512134  1.233145\n",
              "3  55.575082   82.628876         0  9.246233  3.179673\n",
              "4  57.210710   17.748515         0  1.891829  0.734581"
            ],
            "text/html": [
              "\n",
              "  <div id=\"df-b2319932-9765-403b-8d98-829240c0dfdd\" class=\"colab-df-container\">\n",
              "    <div>\n",
              "<style scoped>\n",
              "    .dataframe tbody tr th:only-of-type {\n",
              "        vertical-align: middle;\n",
              "    }\n",
              "\n",
              "    .dataframe tbody tr th {\n",
              "        vertical-align: top;\n",
              "    }\n",
              "\n",
              "    .dataframe thead th {\n",
              "        text-align: right;\n",
              "    }\n",
              "</style>\n",
              "<table border=\"1\" class=\"dataframe\">\n",
              "  <thead>\n",
              "    <tr style=\"text-align: right;\">\n",
              "      <th></th>\n",
              "      <th>age</th>\n",
              "      <th>weight</th>\n",
              "      <th>comorbid</th>\n",
              "      <th>dosage</th>\n",
              "      <th>outcome</th>\n",
              "    </tr>\n",
              "  </thead>\n",
              "  <tbody>\n",
              "    <tr>\n",
              "      <th>0</th>\n",
              "      <td>52.242527</td>\n",
              "      <td>73.940734</td>\n",
              "      <td>0</td>\n",
              "      <td>3.795477</td>\n",
              "      <td>3.377968</td>\n",
              "    </tr>\n",
              "    <tr>\n",
              "      <th>1</th>\n",
              "      <td>50.413968</td>\n",
              "      <td>87.543337</td>\n",
              "      <td>1</td>\n",
              "      <td>8.082877</td>\n",
              "      <td>0.274842</td>\n",
              "    </tr>\n",
              "    <tr>\n",
              "      <th>2</th>\n",
              "      <td>45.382947</td>\n",
              "      <td>107.279829</td>\n",
              "      <td>1</td>\n",
              "      <td>7.512134</td>\n",
              "      <td>1.233145</td>\n",
              "    </tr>\n",
              "    <tr>\n",
              "      <th>3</th>\n",
              "      <td>55.575082</td>\n",
              "      <td>82.628876</td>\n",
              "      <td>0</td>\n",
              "      <td>9.246233</td>\n",
              "      <td>3.179673</td>\n",
              "    </tr>\n",
              "    <tr>\n",
              "      <th>4</th>\n",
              "      <td>57.210710</td>\n",
              "      <td>17.748515</td>\n",
              "      <td>0</td>\n",
              "      <td>1.891829</td>\n",
              "      <td>0.734581</td>\n",
              "    </tr>\n",
              "  </tbody>\n",
              "</table>\n",
              "</div>\n",
              "    <div class=\"colab-df-buttons\">\n",
              "\n",
              "  <div class=\"colab-df-container\">\n",
              "    <button class=\"colab-df-convert\" onclick=\"convertToInteractive('df-b2319932-9765-403b-8d98-829240c0dfdd')\"\n",
              "            title=\"Convert this dataframe to an interactive table.\"\n",
              "            style=\"display:none;\">\n",
              "\n",
              "  <svg xmlns=\"http://www.w3.org/2000/svg\" height=\"24px\" viewBox=\"0 -960 960 960\">\n",
              "    <path d=\"M120-120v-720h720v720H120Zm60-500h600v-160H180v160Zm220 220h160v-160H400v160Zm0 220h160v-160H400v160ZM180-400h160v-160H180v160Zm440 0h160v-160H620v160ZM180-180h160v-160H180v160Zm440 0h160v-160H620v160Z\"/>\n",
              "  </svg>\n",
              "    </button>\n",
              "\n",
              "  <style>\n",
              "    .colab-df-container {\n",
              "      display:flex;\n",
              "      gap: 12px;\n",
              "    }\n",
              "\n",
              "    .colab-df-convert {\n",
              "      background-color: #E8F0FE;\n",
              "      border: none;\n",
              "      border-radius: 50%;\n",
              "      cursor: pointer;\n",
              "      display: none;\n",
              "      fill: #1967D2;\n",
              "      height: 32px;\n",
              "      padding: 0 0 0 0;\n",
              "      width: 32px;\n",
              "    }\n",
              "\n",
              "    .colab-df-convert:hover {\n",
              "      background-color: #E2EBFA;\n",
              "      box-shadow: 0px 1px 2px rgba(60, 64, 67, 0.3), 0px 1px 3px 1px rgba(60, 64, 67, 0.15);\n",
              "      fill: #174EA6;\n",
              "    }\n",
              "\n",
              "    .colab-df-buttons div {\n",
              "      margin-bottom: 4px;\n",
              "    }\n",
              "\n",
              "    [theme=dark] .colab-df-convert {\n",
              "      background-color: #3B4455;\n",
              "      fill: #D2E3FC;\n",
              "    }\n",
              "\n",
              "    [theme=dark] .colab-df-convert:hover {\n",
              "      background-color: #434B5C;\n",
              "      box-shadow: 0px 1px 3px 1px rgba(0, 0, 0, 0.15);\n",
              "      filter: drop-shadow(0px 1px 2px rgba(0, 0, 0, 0.3));\n",
              "      fill: #FFFFFF;\n",
              "    }\n",
              "  </style>\n",
              "\n",
              "    <script>\n",
              "      const buttonEl =\n",
              "        document.querySelector('#df-b2319932-9765-403b-8d98-829240c0dfdd button.colab-df-convert');\n",
              "      buttonEl.style.display =\n",
              "        google.colab.kernel.accessAllowed ? 'block' : 'none';\n",
              "\n",
              "      async function convertToInteractive(key) {\n",
              "        const element = document.querySelector('#df-b2319932-9765-403b-8d98-829240c0dfdd');\n",
              "        const dataTable =\n",
              "          await google.colab.kernel.invokeFunction('convertToInteractive',\n",
              "                                                    [key], {});\n",
              "        if (!dataTable) return;\n",
              "\n",
              "        const docLinkHtml = 'Like what you see? Visit the ' +\n",
              "          '<a target=\"_blank\" href=https://colab.research.google.com/notebooks/data_table.ipynb>data table notebook</a>'\n",
              "          + ' to learn more about interactive tables.';\n",
              "        element.innerHTML = '';\n",
              "        dataTable['output_type'] = 'display_data';\n",
              "        await google.colab.output.renderOutput(dataTable, element);\n",
              "        const docLink = document.createElement('div');\n",
              "        docLink.innerHTML = docLinkHtml;\n",
              "        element.appendChild(docLink);\n",
              "      }\n",
              "    </script>\n",
              "  </div>\n",
              "\n",
              "\n",
              "<div id=\"df-4b0925e8-73cf-4883-b21f-d8a8bead8562\">\n",
              "  <button class=\"colab-df-quickchart\" onclick=\"quickchart('df-4b0925e8-73cf-4883-b21f-d8a8bead8562')\"\n",
              "            title=\"Suggest charts\"\n",
              "            style=\"display:none;\">\n",
              "\n",
              "<svg xmlns=\"http://www.w3.org/2000/svg\" height=\"24px\"viewBox=\"0 0 24 24\"\n",
              "     width=\"24px\">\n",
              "    <g>\n",
              "        <path d=\"M19 3H5c-1.1 0-2 .9-2 2v14c0 1.1.9 2 2 2h14c1.1 0 2-.9 2-2V5c0-1.1-.9-2-2-2zM9 17H7v-7h2v7zm4 0h-2V7h2v10zm4 0h-2v-4h2v4z\"/>\n",
              "    </g>\n",
              "</svg>\n",
              "  </button>\n",
              "\n",
              "<style>\n",
              "  .colab-df-quickchart {\n",
              "      --bg-color: #E8F0FE;\n",
              "      --fill-color: #1967D2;\n",
              "      --hover-bg-color: #E2EBFA;\n",
              "      --hover-fill-color: #174EA6;\n",
              "      --disabled-fill-color: #AAA;\n",
              "      --disabled-bg-color: #DDD;\n",
              "  }\n",
              "\n",
              "  [theme=dark] .colab-df-quickchart {\n",
              "      --bg-color: #3B4455;\n",
              "      --fill-color: #D2E3FC;\n",
              "      --hover-bg-color: #434B5C;\n",
              "      --hover-fill-color: #FFFFFF;\n",
              "      --disabled-bg-color: #3B4455;\n",
              "      --disabled-fill-color: #666;\n",
              "  }\n",
              "\n",
              "  .colab-df-quickchart {\n",
              "    background-color: var(--bg-color);\n",
              "    border: none;\n",
              "    border-radius: 50%;\n",
              "    cursor: pointer;\n",
              "    display: none;\n",
              "    fill: var(--fill-color);\n",
              "    height: 32px;\n",
              "    padding: 0;\n",
              "    width: 32px;\n",
              "  }\n",
              "\n",
              "  .colab-df-quickchart:hover {\n",
              "    background-color: var(--hover-bg-color);\n",
              "    box-shadow: 0 1px 2px rgba(60, 64, 67, 0.3), 0 1px 3px 1px rgba(60, 64, 67, 0.15);\n",
              "    fill: var(--button-hover-fill-color);\n",
              "  }\n",
              "\n",
              "  .colab-df-quickchart-complete:disabled,\n",
              "  .colab-df-quickchart-complete:disabled:hover {\n",
              "    background-color: var(--disabled-bg-color);\n",
              "    fill: var(--disabled-fill-color);\n",
              "    box-shadow: none;\n",
              "  }\n",
              "\n",
              "  .colab-df-spinner {\n",
              "    border: 2px solid var(--fill-color);\n",
              "    border-color: transparent;\n",
              "    border-bottom-color: var(--fill-color);\n",
              "    animation:\n",
              "      spin 1s steps(1) infinite;\n",
              "  }\n",
              "\n",
              "  @keyframes spin {\n",
              "    0% {\n",
              "      border-color: transparent;\n",
              "      border-bottom-color: var(--fill-color);\n",
              "      border-left-color: var(--fill-color);\n",
              "    }\n",
              "    20% {\n",
              "      border-color: transparent;\n",
              "      border-left-color: var(--fill-color);\n",
              "      border-top-color: var(--fill-color);\n",
              "    }\n",
              "    30% {\n",
              "      border-color: transparent;\n",
              "      border-left-color: var(--fill-color);\n",
              "      border-top-color: var(--fill-color);\n",
              "      border-right-color: var(--fill-color);\n",
              "    }\n",
              "    40% {\n",
              "      border-color: transparent;\n",
              "      border-right-color: var(--fill-color);\n",
              "      border-top-color: var(--fill-color);\n",
              "    }\n",
              "    60% {\n",
              "      border-color: transparent;\n",
              "      border-right-color: var(--fill-color);\n",
              "    }\n",
              "    80% {\n",
              "      border-color: transparent;\n",
              "      border-right-color: var(--fill-color);\n",
              "      border-bottom-color: var(--fill-color);\n",
              "    }\n",
              "    90% {\n",
              "      border-color: transparent;\n",
              "      border-bottom-color: var(--fill-color);\n",
              "    }\n",
              "  }\n",
              "</style>\n",
              "\n",
              "  <script>\n",
              "    async function quickchart(key) {\n",
              "      const quickchartButtonEl =\n",
              "        document.querySelector('#' + key + ' button');\n",
              "      quickchartButtonEl.disabled = true;  // To prevent multiple clicks.\n",
              "      quickchartButtonEl.classList.add('colab-df-spinner');\n",
              "      try {\n",
              "        const charts = await google.colab.kernel.invokeFunction(\n",
              "            'suggestCharts', [key], {});\n",
              "      } catch (error) {\n",
              "        console.error('Error during call to suggestCharts:', error);\n",
              "      }\n",
              "      quickchartButtonEl.classList.remove('colab-df-spinner');\n",
              "      quickchartButtonEl.classList.add('colab-df-quickchart-complete');\n",
              "    }\n",
              "    (() => {\n",
              "      let quickchartButtonEl =\n",
              "        document.querySelector('#df-4b0925e8-73cf-4883-b21f-d8a8bead8562 button');\n",
              "      quickchartButtonEl.style.display =\n",
              "        google.colab.kernel.accessAllowed ? 'block' : 'none';\n",
              "    })();\n",
              "  </script>\n",
              "</div>\n",
              "    </div>\n",
              "  </div>\n"
            ],
            "application/vnd.google.colaboratory.intrinsic+json": {
              "type": "dataframe",
              "variable_name": "data2",
              "summary": "{\n  \"name\": \"data2\",\n  \"rows\": 1000,\n  \"fields\": [\n    {\n      \"column\": \"age\",\n      \"properties\": {\n        \"dtype\": \"number\",\n        \"std\": 11.65773943441955,\n        \"min\": 12.838211982460493,\n        \"max\": 88.21340448556722,\n        \"num_unique_values\": 1000,\n        \"samples\": [\n          52.59066279531052,\n          40.805344276106936,\n          39.52087244747204\n        ],\n        \"semantic_type\": \"\",\n        \"description\": \"\"\n      }\n    },\n    {\n      \"column\": \"weight\",\n      \"properties\": {\n        \"dtype\": \"number\",\n        \"std\": 15.291809770361048,\n        \"min\": 17.748515410737973,\n        \"max\": 116.05926828927144,\n        \"num_unique_values\": 1000,\n        \"samples\": [\n          69.21860196969514,\n          77.4092561133932,\n          86.03804335426555\n        ],\n        \"semantic_type\": \"\",\n        \"description\": \"\"\n      }\n    },\n    {\n      \"column\": \"comorbid\",\n      \"properties\": {\n        \"dtype\": \"number\",\n        \"std\": 0,\n        \"min\": 0,\n        \"max\": 1,\n        \"num_unique_values\": 2,\n        \"samples\": [\n          1,\n          0\n        ],\n        \"semantic_type\": \"\",\n        \"description\": \"\"\n      }\n    },\n    {\n      \"column\": \"dosage\",\n      \"properties\": {\n        \"dtype\": \"number\",\n        \"std\": 2.9493852350619925,\n        \"min\": 0.013030745682358624,\n        \"max\": 9.994862036720743,\n        \"num_unique_values\": 1000,\n        \"samples\": [\n          9.299267328041548,\n          7.970696979304416\n        ],\n        \"semantic_type\": \"\",\n        \"description\": \"\"\n      }\n    },\n    {\n      \"column\": \"outcome\",\n      \"properties\": {\n        \"dtype\": \"number\",\n        \"std\": 0.9830844505620312,\n        \"min\": -0.6497304626352666,\n        \"max\": 4.601510234261319,\n        \"num_unique_values\": 1000,\n        \"samples\": [\n          0.40638116789247913,\n          3.897929519328149\n        ],\n        \"semantic_type\": \"\",\n        \"description\": \"\"\n      }\n    }\n  ]\n}"
            }
          },
          "metadata": {},
          "execution_count": 38
        }
      ]
    },
    {
      "cell_type": "markdown",
      "source": [
        "- age: Age of the customer.\n",
        "- weight: Weight of the customer.\n",
        "- comorbid: Pre-existing medical conditions of the patient.\n",
        "- drug (treatment): The dosage of the drug administered to the patient, typically measured in milligrams or as a continuous scale. This variable quantifies the amount of medication each patient receives, which is crucial for analyzing dose-response relationships and determining optimal dosing strategies.\n",
        "- outcome: The response of the patient to the treatment, which could be measured as an improvement score or change in symptoms. This outcome is generally numeric and represents a measure of treatment effectiveness based on the administered dosage."
      ],
      "metadata": {
        "id": "W2DQhSLomzIm"
      }
    },
    {
      "cell_type": "code",
      "source": [
        "data2.groupby('comorbid').size()"
      ],
      "metadata": {
        "colab": {
          "base_uri": "https://localhost:8080/"
        },
        "id": "rK0eVLGMpMyu",
        "outputId": "d60f576f-6d4f-443f-d4cc-9798ce1657f8"
      },
      "execution_count": 51,
      "outputs": [
        {
          "output_type": "execute_result",
          "data": {
            "text/plain": [
              "comorbid\n",
              "0    706\n",
              "1    294\n",
              "dtype: int64"
            ]
          },
          "metadata": {},
          "execution_count": 51
        }
      ]
    },
    {
      "cell_type": "markdown",
      "source": [
        "**1 Create a Model for Conditional Average Treatment Effect** <br>"
      ],
      "metadata": {
        "id": "OoSvrbjOpw_E"
      }
    },
    {
      "cell_type": "code",
      "source": [
        "np.random.seed(123)\n",
        "train2, test2 = train_test_split(data2, test_size=0.3)\n",
        "train2.shape, test2.shape"
      ],
      "metadata": {
        "colab": {
          "base_uri": "https://localhost:8080/"
        },
        "id": "whVEy4KFnNKv",
        "outputId": "79d2a6b4-50cb-4f2e-867d-8e4232bfc80e"
      },
      "execution_count": 49,
      "outputs": [
        {
          "output_type": "execute_result",
          "data": {
            "text/plain": [
              "((700, 5), (300, 5))"
            ]
          },
          "metadata": {},
          "execution_count": 49
        }
      ]
    },
    {
      "cell_type": "markdown",
      "source": [
        "**2 Apply the target transformation**"
      ],
      "metadata": {
        "id": "rGe1g_oAqEW6"
      }
    },
    {
      "cell_type": "markdown",
      "source": [
        "![image.png](data:image/png;base64,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)"
      ],
      "metadata": {
        "id": "N6coSaWlp_mV"
      }
    },
    {
      "cell_type": "code",
      "source": [
        "y_star_cont2 = (train2[\"dosage\"] - train2[\"dosage\"].mean()\n",
        "               *train2[\"outcome\"] - train2[\"outcome\"].mean())"
      ],
      "metadata": {
        "id": "SGizjPI1nUPT"
      },
      "execution_count": 55,
      "outputs": []
    },
    {
      "cell_type": "markdown",
      "source": [
        "**3 Pick any ML regression algorithm and test the prediction**"
      ],
      "metadata": {
        "id": "tUXYQPn0qGta"
      }
    },
    {
      "cell_type": "code",
      "source": [
        "np.random.seed(123)\n",
        "cate_learner2 = LGBMRegressor(max_depth=3, min_child_samples=300, num_leaves=5)\n",
        "cate_learner2.fit(train2[[\"age\", \"weight\", \"comorbid\"]], y_star_cont2)\n",
        "\n",
        "cate_test_transf_y = cate_learner2.predict(test2[[\"age\", \"weight\", \"comorbid\"]])\n",
        "\n",
        "test_pred2 = test2.assign(cate=cate_test_transf_y)"
      ],
      "metadata": {
        "id": "Y6oSo_ufoEo7"
      },
      "execution_count": null,
      "outputs": []
    },
    {
      "cell_type": "code",
      "source": [
        "test_pred2.sample(5)"
      ],
      "metadata": {
        "colab": {
          "base_uri": "https://localhost:8080/",
          "height": 206
        },
        "id": "xYuyzK05qmH0",
        "outputId": "cd3afec6-3066-4f26-923b-f6ec6eb4321a"
      },
      "execution_count": 59,
      "outputs": [
        {
          "output_type": "execute_result",
          "data": {
            "text/plain": [
              "           age     weight  comorbid    dosage   outcome       cate\n",
              "801  52.365604  67.682159         1  6.470071  1.341909  -8.298285\n",
              "313  34.551444  61.945148         0  6.746521  2.521910 -10.865664\n",
              "485  49.587684  51.984003         0  1.555329  2.800688 -10.103455\n",
              "995  49.580296  40.000044         0  2.275701  2.451695 -10.103455\n",
              "723  35.704816  48.556640         0  7.813394  3.126033 -10.865664"
            ],
            "text/html": [
              "\n",
              "  <div id=\"df-7dbd3f0e-2311-45d4-a59b-d9b46f056a0d\" class=\"colab-df-container\">\n",
              "    <div>\n",
              "<style scoped>\n",
              "    .dataframe tbody tr th:only-of-type {\n",
              "        vertical-align: middle;\n",
              "    }\n",
              "\n",
              "    .dataframe tbody tr th {\n",
              "        vertical-align: top;\n",
              "    }\n",
              "\n",
              "    .dataframe thead th {\n",
              "        text-align: right;\n",
              "    }\n",
              "</style>\n",
              "<table border=\"1\" class=\"dataframe\">\n",
              "  <thead>\n",
              "    <tr style=\"text-align: right;\">\n",
              "      <th></th>\n",
              "      <th>age</th>\n",
              "      <th>weight</th>\n",
              "      <th>comorbid</th>\n",
              "      <th>dosage</th>\n",
              "      <th>outcome</th>\n",
              "      <th>cate</th>\n",
              "    </tr>\n",
              "  </thead>\n",
              "  <tbody>\n",
              "    <tr>\n",
              "      <th>801</th>\n",
              "      <td>52.365604</td>\n",
              "      <td>67.682159</td>\n",
              "      <td>1</td>\n",
              "      <td>6.470071</td>\n",
              "      <td>1.341909</td>\n",
              "      <td>-8.298285</td>\n",
              "    </tr>\n",
              "    <tr>\n",
              "      <th>313</th>\n",
              "      <td>34.551444</td>\n",
              "      <td>61.945148</td>\n",
              "      <td>0</td>\n",
              "      <td>6.746521</td>\n",
              "      <td>2.521910</td>\n",
              "      <td>-10.865664</td>\n",
              "    </tr>\n",
              "    <tr>\n",
              "      <th>485</th>\n",
              "      <td>49.587684</td>\n",
              "      <td>51.984003</td>\n",
              "      <td>0</td>\n",
              "      <td>1.555329</td>\n",
              "      <td>2.800688</td>\n",
              "      <td>-10.103455</td>\n",
              "    </tr>\n",
              "    <tr>\n",
              "      <th>995</th>\n",
              "      <td>49.580296</td>\n",
              "      <td>40.000044</td>\n",
              "      <td>0</td>\n",
              "      <td>2.275701</td>\n",
              "      <td>2.451695</td>\n",
              "      <td>-10.103455</td>\n",
              "    </tr>\n",
              "    <tr>\n",
              "      <th>723</th>\n",
              "      <td>35.704816</td>\n",
              "      <td>48.556640</td>\n",
              "      <td>0</td>\n",
              "      <td>7.813394</td>\n",
              "      <td>3.126033</td>\n",
              "      <td>-10.865664</td>\n",
              "    </tr>\n",
              "  </tbody>\n",
              "</table>\n",
              "</div>\n",
              "    <div class=\"colab-df-buttons\">\n",
              "\n",
              "  <div class=\"colab-df-container\">\n",
              "    <button class=\"colab-df-convert\" onclick=\"convertToInteractive('df-7dbd3f0e-2311-45d4-a59b-d9b46f056a0d')\"\n",
              "            title=\"Convert this dataframe to an interactive table.\"\n",
              "            style=\"display:none;\">\n",
              "\n",
              "  <svg xmlns=\"http://www.w3.org/2000/svg\" height=\"24px\" viewBox=\"0 -960 960 960\">\n",
              "    <path d=\"M120-120v-720h720v720H120Zm60-500h600v-160H180v160Zm220 220h160v-160H400v160Zm0 220h160v-160H400v160ZM180-400h160v-160H180v160Zm440 0h160v-160H620v160ZM180-180h160v-160H180v160Zm440 0h160v-160H620v160Z\"/>\n",
              "  </svg>\n",
              "    </button>\n",
              "\n",
              "  <style>\n",
              "    .colab-df-container {\n",
              "      display:flex;\n",
              "      gap: 12px;\n",
              "    }\n",
              "\n",
              "    .colab-df-convert {\n",
              "      background-color: #E8F0FE;\n",
              "      border: none;\n",
              "      border-radius: 50%;\n",
              "      cursor: pointer;\n",
              "      display: none;\n",
              "      fill: #1967D2;\n",
              "      height: 32px;\n",
              "      padding: 0 0 0 0;\n",
              "      width: 32px;\n",
              "    }\n",
              "\n",
              "    .colab-df-convert:hover {\n",
              "      background-color: #E2EBFA;\n",
              "      box-shadow: 0px 1px 2px rgba(60, 64, 67, 0.3), 0px 1px 3px 1px rgba(60, 64, 67, 0.15);\n",
              "      fill: #174EA6;\n",
              "    }\n",
              "\n",
              "    .colab-df-buttons div {\n",
              "      margin-bottom: 4px;\n",
              "    }\n",
              "\n",
              "    [theme=dark] .colab-df-convert {\n",
              "      background-color: #3B4455;\n",
              "      fill: #D2E3FC;\n",
              "    }\n",
              "\n",
              "    [theme=dark] .colab-df-convert:hover {\n",
              "      background-color: #434B5C;\n",
              "      box-shadow: 0px 1px 3px 1px rgba(0, 0, 0, 0.15);\n",
              "      filter: drop-shadow(0px 1px 2px rgba(0, 0, 0, 0.3));\n",
              "      fill: #FFFFFF;\n",
              "    }\n",
              "  </style>\n",
              "\n",
              "    <script>\n",
              "      const buttonEl =\n",
              "        document.querySelector('#df-7dbd3f0e-2311-45d4-a59b-d9b46f056a0d button.colab-df-convert');\n",
              "      buttonEl.style.display =\n",
              "        google.colab.kernel.accessAllowed ? 'block' : 'none';\n",
              "\n",
              "      async function convertToInteractive(key) {\n",
              "        const element = document.querySelector('#df-7dbd3f0e-2311-45d4-a59b-d9b46f056a0d');\n",
              "        const dataTable =\n",
              "          await google.colab.kernel.invokeFunction('convertToInteractive',\n",
              "                                                    [key], {});\n",
              "        if (!dataTable) return;\n",
              "\n",
              "        const docLinkHtml = 'Like what you see? Visit the ' +\n",
              "          '<a target=\"_blank\" href=https://colab.research.google.com/notebooks/data_table.ipynb>data table notebook</a>'\n",
              "          + ' to learn more about interactive tables.';\n",
              "        element.innerHTML = '';\n",
              "        dataTable['output_type'] = 'display_data';\n",
              "        await google.colab.output.renderOutput(dataTable, element);\n",
              "        const docLink = document.createElement('div');\n",
              "        docLink.innerHTML = docLinkHtml;\n",
              "        element.appendChild(docLink);\n",
              "      }\n",
              "    </script>\n",
              "  </div>\n",
              "\n",
              "\n",
              "<div id=\"df-3c6084ff-afa9-4e12-938f-c07f4390c2c8\">\n",
              "  <button class=\"colab-df-quickchart\" onclick=\"quickchart('df-3c6084ff-afa9-4e12-938f-c07f4390c2c8')\"\n",
              "            title=\"Suggest charts\"\n",
              "            style=\"display:none;\">\n",
              "\n",
              "<svg xmlns=\"http://www.w3.org/2000/svg\" height=\"24px\"viewBox=\"0 0 24 24\"\n",
              "     width=\"24px\">\n",
              "    <g>\n",
              "        <path d=\"M19 3H5c-1.1 0-2 .9-2 2v14c0 1.1.9 2 2 2h14c1.1 0 2-.9 2-2V5c0-1.1-.9-2-2-2zM9 17H7v-7h2v7zm4 0h-2V7h2v10zm4 0h-2v-4h2v4z\"/>\n",
              "    </g>\n",
              "</svg>\n",
              "  </button>\n",
              "\n",
              "<style>\n",
              "  .colab-df-quickchart {\n",
              "      --bg-color: #E8F0FE;\n",
              "      --fill-color: #1967D2;\n",
              "      --hover-bg-color: #E2EBFA;\n",
              "      --hover-fill-color: #174EA6;\n",
              "      --disabled-fill-color: #AAA;\n",
              "      --disabled-bg-color: #DDD;\n",
              "  }\n",
              "\n",
              "  [theme=dark] .colab-df-quickchart {\n",
              "      --bg-color: #3B4455;\n",
              "      --fill-color: #D2E3FC;\n",
              "      --hover-bg-color: #434B5C;\n",
              "      --hover-fill-color: #FFFFFF;\n",
              "      --disabled-bg-color: #3B4455;\n",
              "      --disabled-fill-color: #666;\n",
              "  }\n",
              "\n",
              "  .colab-df-quickchart {\n",
              "    background-color: var(--bg-color);\n",
              "    border: none;\n",
              "    border-radius: 50%;\n",
              "    cursor: pointer;\n",
              "    display: none;\n",
              "    fill: var(--fill-color);\n",
              "    height: 32px;\n",
              "    padding: 0;\n",
              "    width: 32px;\n",
              "  }\n",
              "\n",
              "  .colab-df-quickchart:hover {\n",
              "    background-color: var(--hover-bg-color);\n",
              "    box-shadow: 0 1px 2px rgba(60, 64, 67, 0.3), 0 1px 3px 1px rgba(60, 64, 67, 0.15);\n",
              "    fill: var(--button-hover-fill-color);\n",
              "  }\n",
              "\n",
              "  .colab-df-quickchart-complete:disabled,\n",
              "  .colab-df-quickchart-complete:disabled:hover {\n",
              "    background-color: var(--disabled-bg-color);\n",
              "    fill: var(--disabled-fill-color);\n",
              "    box-shadow: none;\n",
              "  }\n",
              "\n",
              "  .colab-df-spinner {\n",
              "    border: 2px solid var(--fill-color);\n",
              "    border-color: transparent;\n",
              "    border-bottom-color: var(--fill-color);\n",
              "    animation:\n",
              "      spin 1s steps(1) infinite;\n",
              "  }\n",
              "\n",
              "  @keyframes spin {\n",
              "    0% {\n",
              "      border-color: transparent;\n",
              "      border-bottom-color: var(--fill-color);\n",
              "      border-left-color: var(--fill-color);\n",
              "    }\n",
              "    20% {\n",
              "      border-color: transparent;\n",
              "      border-left-color: var(--fill-color);\n",
              "      border-top-color: var(--fill-color);\n",
              "    }\n",
              "    30% {\n",
              "      border-color: transparent;\n",
              "      border-left-color: var(--fill-color);\n",
              "      border-top-color: var(--fill-color);\n",
              "      border-right-color: var(--fill-color);\n",
              "    }\n",
              "    40% {\n",
              "      border-color: transparent;\n",
              "      border-right-color: var(--fill-color);\n",
              "      border-top-color: var(--fill-color);\n",
              "    }\n",
              "    60% {\n",
              "      border-color: transparent;\n",
              "      border-right-color: var(--fill-color);\n",
              "    }\n",
              "    80% {\n",
              "      border-color: transparent;\n",
              "      border-right-color: var(--fill-color);\n",
              "      border-bottom-color: var(--fill-color);\n",
              "    }\n",
              "    90% {\n",
              "      border-color: transparent;\n",
              "      border-bottom-color: var(--fill-color);\n",
              "    }\n",
              "  }\n",
              "</style>\n",
              "\n",
              "  <script>\n",
              "    async function quickchart(key) {\n",
              "      const quickchartButtonEl =\n",
              "        document.querySelector('#' + key + ' button');\n",
              "      quickchartButtonEl.disabled = true;  // To prevent multiple clicks.\n",
              "      quickchartButtonEl.classList.add('colab-df-spinner');\n",
              "      try {\n",
              "        const charts = await google.colab.kernel.invokeFunction(\n",
              "            'suggestCharts', [key], {});\n",
              "      } catch (error) {\n",
              "        console.error('Error during call to suggestCharts:', error);\n",
              "      }\n",
              "      quickchartButtonEl.classList.remove('colab-df-spinner');\n",
              "      quickchartButtonEl.classList.add('colab-df-quickchart-complete');\n",
              "    }\n",
              "    (() => {\n",
              "      let quickchartButtonEl =\n",
              "        document.querySelector('#df-3c6084ff-afa9-4e12-938f-c07f4390c2c8 button');\n",
              "      quickchartButtonEl.style.display =\n",
              "        google.colab.kernel.accessAllowed ? 'block' : 'none';\n",
              "    })();\n",
              "  </script>\n",
              "</div>\n",
              "    </div>\n",
              "  </div>\n"
            ],
            "application/vnd.google.colaboratory.intrinsic+json": {
              "type": "dataframe",
              "summary": "{\n  \"name\": \"test_pred2\",\n  \"rows\": 5,\n  \"fields\": [\n    {\n      \"column\": \"age\",\n      \"properties\": {\n        \"dtype\": \"number\",\n        \"std\": 8.51160717580484,\n        \"min\": 34.55144391719059,\n        \"max\": 52.36560407185974,\n        \"num_unique_values\": 5,\n        \"samples\": [\n          34.55144391719059,\n          35.70481616062939,\n          49.58768389793737\n        ],\n        \"semantic_type\": \"\",\n        \"description\": \"\"\n      }\n    },\n    {\n      \"column\": \"weight\",\n      \"properties\": {\n        \"dtype\": \"number\",\n        \"std\": 10.954615351218541,\n        \"min\": 40.00004375505232,\n        \"max\": 67.68215856157629,\n        \"num_unique_values\": 5,\n        \"samples\": [\n          61.945148097768346,\n          48.55663950788374,\n          51.98400278390352\n        ],\n        \"semantic_type\": \"\",\n        \"description\": \"\"\n      }\n    },\n    {\n      \"column\": \"comorbid\",\n      \"properties\": {\n        \"dtype\": \"number\",\n        \"std\": 0,\n        \"min\": 0,\n        \"max\": 1,\n        \"num_unique_values\": 2,\n        \"samples\": [\n          0,\n          1\n        ],\n        \"semantic_type\": \"\",\n        \"description\": \"\"\n      }\n    },\n    {\n      \"column\": \"dosage\",\n      \"properties\": {\n        \"dtype\": \"number\",\n        \"std\": 2.8465036794541754,\n        \"min\": 1.5553291198739072,\n        \"max\": 7.813394069571062,\n        \"num_unique_values\": 5,\n        \"samples\": [\n          6.746521344860666,\n          7.813394069571062\n        ],\n        \"semantic_type\": \"\",\n        \"description\": \"\"\n      }\n    },\n    {\n      \"column\": \"outcome\",\n      \"properties\": {\n        \"dtype\": \"number\",\n        \"std\": 0.673243869266416,\n        \"min\": 1.3419091616699295,\n        \"max\": 3.126032735209072,\n        \"num_unique_values\": 5,\n        \"samples\": [\n          2.521910312394138,\n          3.126032735209072\n        ],\n        \"semantic_type\": \"\",\n        \"description\": \"\"\n      }\n    },\n    {\n      \"column\": \"cate\",\n      \"properties\": {\n        \"dtype\": \"number\",\n        \"std\": 1.0493809244261836,\n        \"min\": -10.865664031034127,\n        \"max\": -8.29828452023087,\n        \"num_unique_values\": 3,\n        \"samples\": [\n          -8.29828452023087,\n          -10.865664031034127\n        ],\n        \"semantic_type\": \"\",\n        \"description\": \"\"\n      }\n    }\n  ]\n}"
            }
          },
          "metadata": {},
          "execution_count": 59
        }
      ]
    },
    {
      "cell_type": "markdown",
      "source": [
        "**4 Plot and interpret the results**"
      ],
      "metadata": {
        "id": "JMyGKmNOqtwQ"
      }
    },
    {
      "cell_type": "code",
      "source": [
        "plot_cumulative_gain(test_pred2, 'cate', 'outcome', 'dosage')"
      ],
      "metadata": {
        "colab": {
          "base_uri": "https://localhost:8080/",
          "height": 487
        },
        "id": "VN1xnN9aoXvP",
        "outputId": "8905bdc9-989d-4fa0-ac6e-2de2724a5d3b"
      },
      "execution_count": 60,
      "outputs": [
        {
          "output_type": "display_data",
          "data": {
            "text/plain": [
              "<Figure size 800x500 with 1 Axes>"
            ],
            "image/png": "[encoded data removed]"
          },
          "metadata": {}
        }
      ]
    },
    {
      "cell_type": "code",
      "source": [
        "train_pred2 = train2.assign(cate=cate_learner2.predict(train2[X]))\n",
        "plot_cumulative_gain(train_pred, 'cate', 'outcome', 'dosage')"
      ],
      "metadata": {
        "colab": {
          "base_uri": "https://localhost:8080/",
          "height": 487
        },
        "id": "DLmEbNoSoY9K",
        "outputId": "f730039e-cde6-4207-c38e-f17d2b96e38f"
      },
      "execution_count": 61,
      "outputs": [
        {
          "output_type": "display_data",
          "data": {
            "text/plain": [
              "<Figure size 800x500 with 1 Axes>"
            ],
            "image/png": "[encoded data removed]"
          },
          "metadata": {}
        }
      ]
    },
    {
      "cell_type": "code",
      "source": [
        "import matplotlib.pyplot as plt\n",
        "import seaborn as sns\n",
        "\n",
        "sns.histplot(train_pred2['cate'], color=\"blue\", label=\"Train2 CATE\", kde=True)\n",
        "sns.histplot(test_pred2['cate'], color=\"red\", label=\"Test2 CATE\", kde=True)\n",
        "plt.legend()\n",
        "plt.title('Distribution of Predicted CATE Across Train2 and Test2 Sets')\n",
        "plt.xlabel('Predicted CATE')\n",
        "plt.ylabel('Frequency')\n",
        "plt.show()"
      ],
      "metadata": {
        "colab": {
          "base_uri": "https://localhost:8080/",
          "height": 472
        },
        "id": "gegoMx8guznS",
        "outputId": "f0a9db4d-6ceb-403b-f02b-df440eb6df69"
      },
      "execution_count": 139,
      "outputs": [
        {
          "output_type": "display_data",
          "data": {
            "text/plain": [
              "<Figure size 640x480 with 1 Axes>"
            ],
            "image/png": "[encoded data removed]"
          },
          "metadata": {}
        }
      ]
    },
    {
      "cell_type": "markdown",
      "source": [
        "- Negative values would indicate instances where the drug dosage has a detrimental effect compared to some baseline or control condition.\n",
        "- Major differences could indicate overfitting, where the model performs well on the training data but poorly on unseen test data."
      ],
      "metadata": {
        "id": "EY0PxZoWvRti"
      }
    }
  ]
}